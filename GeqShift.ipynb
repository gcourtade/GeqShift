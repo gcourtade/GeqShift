{
  "nbformat": 4,
  "nbformat_minor": 0,
  "metadata": {
    "colab": {
      "provenance": [],
      "gpuType": "T4",
      "authorship_tag": "ABX9TyO9RwOkclQtp5tZsilmEtco",
      "include_colab_link": true
    },
    "kernelspec": {
      "name": "python3",
      "display_name": "Python 3"
    },
    "language_info": {
      "name": "python"
    },
    "accelerator": "GPU"
  },
  "cells": [
    {
      "cell_type": "markdown",
      "metadata": {
        "id": "view-in-github",
        "colab_type": "text"
      },
      "source": [
        "<a href=\"https://colab.research.google.com/github/gcourtade/GeqShift/blob/main/GeqShift.ipynb\" target=\"_parent\"><img src=\"https://colab.research.google.com/assets/colab-badge.svg\" alt=\"Open In Colab\"/></a>"
      ]
    },
    {
      "cell_type": "markdown",
      "source": [
        "##GeqShift\n",
        "\n",
        "Easy to use carbohydrate <sup>13</sup>C and <sup>1</sup>H NMR chemical shift prediction using GeqShift: an E(3) equivariant graph neural network.\n",
        "\n",
        "The original GeqShift code is available at https://github.com/mariabankestad/GeqShift.\n",
        "\n",
        "The dataset of 1H and 13C NMR chemical shifts are available at https://github.com/mariabankestad/GeqShift.\n",
        "\n",
        "Please read and cite the GeqShit paper:\n",
        "[Bånkestad M., Dorst K. M., Widmalm G., Rönnols J. Carbohydrate NMR chemical shift prediction by GeqShift employing E(3) equivariant graph neural networks\n",
        "*RSC Advances*, 2024](https://doi.org/10.1039/D4RA03428G)\n",
        "\n",
        "##### Disclaimer\n",
        "I made this Google Colab notebook for my own use and have no connection with the authors of the GeqShift paper. This notebook was is heavily inspired by and uses code from the [ColabFold](https://colab.research.google.com/github/sokrypton/ColabFold/blob/main/AlphaFold2.ipynb#scrollTo=mbaIO9pWjaN0) notebook. The model was trained using 100 conformations of the carbohydrates in the training set and 20 epochs. I cannot guarantee the correctness of the results generated using this code.\n",
        "\n",
        "--[Gaston Courtade](https://folk.ntnu.no/courtade), 2025-04-10"
      ],
      "metadata": {
        "id": "srfiZcf4EAlm"
      }
    },
    {
      "cell_type": "code",
      "source": [
        "#@title Input carbohydrate SMILES, then hit `Runtime` -> `Run all`\n",
        "import os\n",
        "\n",
        "\n",
        "query_smiles = 'C([C@@H]1[C@H]([C@@H]([C@H](C(O1)O)O)O)O)O' #@param {type:\"string\"}\n",
        "#@markdown  - Tip: Use [SMILES generator/checker](https://www.cheminfo.org/flavor/malaria/Utilities/SMILES_generator___checker/index.html) to edit SMILES.\n",
        "jobname = 'bDGlc' #@param {type:\"string\"}\n",
        "# number of models to use\n",
        "num_conformations = 100 #@param {type: \"integer\"}\n",
        "#@markdown - Specify how many conformations should be generated in the ensemble for chemical shift prediction\n",
        "#@markdown - Tip: Best results are expected with around 100 conformations\n",
        "\n",
        "if os.path.exists(\"predict\"):\n",
        "  !rm -r /content/predict"
      ],
      "metadata": {
        "id": "WCPWHucDBIfu",
        "cellView": "form"
      },
      "execution_count": 2,
      "outputs": []
    },
    {
      "cell_type": "code",
      "execution_count": 3,
      "metadata": {
        "colab": {
          "base_uri": "https://localhost:8080/"
        },
        "id": "om6iAKOoZ57W",
        "outputId": "a600dfa1-f279-4f8b-9259-824442e1fc6c",
        "cellView": "form"
      },
      "outputs": [
        {
          "output_type": "stream",
          "name": "stdout",
          "text": [
            "Looking in links: https://pytorch-geometric.com/whl/torch-2.4.0%2Bcu124.html\n",
            "Requirement already satisfied: torch-cluster in /usr/local/lib/python3.11/dist-packages (1.6.3+pt26cu124)\n",
            "Requirement already satisfied: torch-geometric in /usr/local/lib/python3.11/dist-packages (2.6.1)\n",
            "Requirement already satisfied: torch-scatter in /usr/local/lib/python3.11/dist-packages (2.1.2+pt26cu124)\n",
            "Requirement already satisfied: scipy in /usr/local/lib/python3.11/dist-packages (from torch-cluster) (1.14.1)\n",
            "Requirement already satisfied: aiohttp in /usr/local/lib/python3.11/dist-packages (from torch-geometric) (3.11.15)\n",
            "Requirement already satisfied: fsspec in /usr/local/lib/python3.11/dist-packages (from torch-geometric) (2025.3.2)\n",
            "Requirement already satisfied: jinja2 in /usr/local/lib/python3.11/dist-packages (from torch-geometric) (3.1.6)\n",
            "Requirement already satisfied: numpy in /usr/local/lib/python3.11/dist-packages (from torch-geometric) (2.0.2)\n",
            "Requirement already satisfied: psutil>=5.8.0 in /usr/local/lib/python3.11/dist-packages (from torch-geometric) (5.9.5)\n",
            "Requirement already satisfied: pyparsing in /usr/local/lib/python3.11/dist-packages (from torch-geometric) (3.2.3)\n",
            "Requirement already satisfied: requests in /usr/local/lib/python3.11/dist-packages (from torch-geometric) (2.32.3)\n",
            "Requirement already satisfied: tqdm in /usr/local/lib/python3.11/dist-packages (from torch-geometric) (4.67.1)\n",
            "Requirement already satisfied: aiohappyeyeballs>=2.3.0 in /usr/local/lib/python3.11/dist-packages (from aiohttp->torch-geometric) (2.6.1)\n",
            "Requirement already satisfied: aiosignal>=1.1.2 in /usr/local/lib/python3.11/dist-packages (from aiohttp->torch-geometric) (1.3.2)\n",
            "Requirement already satisfied: attrs>=17.3.0 in /usr/local/lib/python3.11/dist-packages (from aiohttp->torch-geometric) (25.3.0)\n",
            "Requirement already satisfied: frozenlist>=1.1.1 in /usr/local/lib/python3.11/dist-packages (from aiohttp->torch-geometric) (1.5.0)\n",
            "Requirement already satisfied: multidict<7.0,>=4.5 in /usr/local/lib/python3.11/dist-packages (from aiohttp->torch-geometric) (6.3.2)\n",
            "Requirement already satisfied: propcache>=0.2.0 in /usr/local/lib/python3.11/dist-packages (from aiohttp->torch-geometric) (0.3.1)\n",
            "Requirement already satisfied: yarl<2.0,>=1.17.0 in /usr/local/lib/python3.11/dist-packages (from aiohttp->torch-geometric) (1.18.3)\n",
            "Requirement already satisfied: MarkupSafe>=2.0 in /usr/local/lib/python3.11/dist-packages (from jinja2->torch-geometric) (3.0.2)\n",
            "Requirement already satisfied: charset-normalizer<4,>=2 in /usr/local/lib/python3.11/dist-packages (from requests->torch-geometric) (3.4.1)\n",
            "Requirement already satisfied: idna<4,>=2.5 in /usr/local/lib/python3.11/dist-packages (from requests->torch-geometric) (3.10)\n",
            "Requirement already satisfied: urllib3<3,>=1.21.1 in /usr/local/lib/python3.11/dist-packages (from requests->torch-geometric) (2.3.0)\n",
            "Requirement already satisfied: certifi>=2017.4.17 in /usr/local/lib/python3.11/dist-packages (from requests->torch-geometric) (2025.1.31)\n",
            "Requirement already satisfied: e3nn in /usr/local/lib/python3.11/dist-packages (0.5.6)\n",
            "Requirement already satisfied: sympy in /usr/local/lib/python3.11/dist-packages (from e3nn) (1.13.1)\n",
            "Requirement already satisfied: scipy in /usr/local/lib/python3.11/dist-packages (from e3nn) (1.14.1)\n",
            "Requirement already satisfied: torch>=1.8.0 in /usr/local/lib/python3.11/dist-packages (from e3nn) (2.4.0+cu124)\n",
            "Requirement already satisfied: opt_einsum_fx>=0.1.4 in /usr/local/lib/python3.11/dist-packages (from e3nn) (0.1.4)\n",
            "Requirement already satisfied: opt-einsum in /usr/local/lib/python3.11/dist-packages (from opt_einsum_fx>=0.1.4->e3nn) (3.4.0)\n",
            "Requirement already satisfied: packaging in /usr/local/lib/python3.11/dist-packages (from opt_einsum_fx>=0.1.4->e3nn) (24.2)\n",
            "Requirement already satisfied: filelock in /usr/local/lib/python3.11/dist-packages (from torch>=1.8.0->e3nn) (3.18.0)\n",
            "Requirement already satisfied: typing-extensions>=4.8.0 in /usr/local/lib/python3.11/dist-packages (from torch>=1.8.0->e3nn) (4.13.1)\n",
            "Requirement already satisfied: networkx in /usr/local/lib/python3.11/dist-packages (from torch>=1.8.0->e3nn) (3.4.2)\n",
            "Requirement already satisfied: jinja2 in /usr/local/lib/python3.11/dist-packages (from torch>=1.8.0->e3nn) (3.1.6)\n",
            "Requirement already satisfied: fsspec in /usr/local/lib/python3.11/dist-packages (from torch>=1.8.0->e3nn) (2025.3.2)\n",
            "Requirement already satisfied: nvidia-cuda-nvrtc-cu12==12.4.99 in /usr/local/lib/python3.11/dist-packages (from torch>=1.8.0->e3nn) (12.4.99)\n",
            "Requirement already satisfied: nvidia-cuda-runtime-cu12==12.4.99 in /usr/local/lib/python3.11/dist-packages (from torch>=1.8.0->e3nn) (12.4.99)\n",
            "Requirement already satisfied: nvidia-cuda-cupti-cu12==12.4.99 in /usr/local/lib/python3.11/dist-packages (from torch>=1.8.0->e3nn) (12.4.99)\n",
            "Requirement already satisfied: nvidia-cudnn-cu12==9.1.0.70 in /usr/local/lib/python3.11/dist-packages (from torch>=1.8.0->e3nn) (9.1.0.70)\n",
            "Requirement already satisfied: nvidia-cublas-cu12==12.4.2.65 in /usr/local/lib/python3.11/dist-packages (from torch>=1.8.0->e3nn) (12.4.2.65)\n",
            "Requirement already satisfied: nvidia-cufft-cu12==11.2.0.44 in /usr/local/lib/python3.11/dist-packages (from torch>=1.8.0->e3nn) (11.2.0.44)\n",
            "Requirement already satisfied: nvidia-curand-cu12==10.3.5.119 in /usr/local/lib/python3.11/dist-packages (from torch>=1.8.0->e3nn) (10.3.5.119)\n",
            "Requirement already satisfied: nvidia-cusolver-cu12==11.6.0.99 in /usr/local/lib/python3.11/dist-packages (from torch>=1.8.0->e3nn) (11.6.0.99)\n",
            "Requirement already satisfied: nvidia-cusparse-cu12==12.3.0.142 in /usr/local/lib/python3.11/dist-packages (from torch>=1.8.0->e3nn) (12.3.0.142)\n",
            "Requirement already satisfied: nvidia-nccl-cu12==2.20.5 in /usr/local/lib/python3.11/dist-packages (from torch>=1.8.0->e3nn) (2.20.5)\n",
            "Requirement already satisfied: nvidia-nvtx-cu12==12.4.99 in /usr/local/lib/python3.11/dist-packages (from torch>=1.8.0->e3nn) (12.4.99)\n",
            "Requirement already satisfied: nvidia-nvjitlink-cu12==12.4.99 in /usr/local/lib/python3.11/dist-packages (from torch>=1.8.0->e3nn) (12.4.99)\n",
            "Requirement already satisfied: triton==3.0.0 in /usr/local/lib/python3.11/dist-packages (from torch>=1.8.0->e3nn) (3.0.0)\n",
            "Requirement already satisfied: numpy<2.3,>=1.23.5 in /usr/local/lib/python3.11/dist-packages (from scipy->e3nn) (2.0.2)\n",
            "Requirement already satisfied: mpmath<1.4,>=1.1.0 in /usr/local/lib/python3.11/dist-packages (from sympy->e3nn) (1.3.0)\n",
            "Requirement already satisfied: MarkupSafe>=2.0 in /usr/local/lib/python3.11/dist-packages (from jinja2->torch>=1.8.0->e3nn) (3.0.2)\n",
            "Requirement already satisfied: rdkit in /usr/local/lib/python3.11/dist-packages (2024.9.6)\n",
            "Requirement already satisfied: numpy in /usr/local/lib/python3.11/dist-packages (from rdkit) (2.0.2)\n",
            "Requirement already satisfied: Pillow in /usr/local/lib/python3.11/dist-packages (from rdkit) (11.1.0)\n",
            "Requirement already satisfied: mdanalysis in /usr/local/lib/python3.11/dist-packages (2.9.0)\n",
            "Requirement already satisfied: numpy>=1.23.2 in /usr/local/lib/python3.11/dist-packages (from mdanalysis) (2.0.2)\n",
            "Requirement already satisfied: GridDataFormats>=0.4.0 in /usr/local/lib/python3.11/dist-packages (from mdanalysis) (1.0.2)\n",
            "Requirement already satisfied: mmtf-python>=1.0.0 in /usr/local/lib/python3.11/dist-packages (from mdanalysis) (1.1.3)\n",
            "Requirement already satisfied: joblib>=0.12 in /usr/local/lib/python3.11/dist-packages (from mdanalysis) (1.4.2)\n",
            "Requirement already satisfied: scipy>=1.5.0 in /usr/local/lib/python3.11/dist-packages (from mdanalysis) (1.14.1)\n",
            "Requirement already satisfied: matplotlib>=1.5.1 in /usr/local/lib/python3.11/dist-packages (from mdanalysis) (3.10.0)\n",
            "Requirement already satisfied: tqdm>=4.43.0 in /usr/local/lib/python3.11/dist-packages (from mdanalysis) (4.67.1)\n",
            "Requirement already satisfied: threadpoolctl in /usr/local/lib/python3.11/dist-packages (from mdanalysis) (3.6.0)\n",
            "Requirement already satisfied: packaging in /usr/local/lib/python3.11/dist-packages (from mdanalysis) (24.2)\n",
            "Requirement already satisfied: filelock in /usr/local/lib/python3.11/dist-packages (from mdanalysis) (3.18.0)\n",
            "Requirement already satisfied: mda-xdrlib in /usr/local/lib/python3.11/dist-packages (from mdanalysis) (0.2.0)\n",
            "Requirement already satisfied: mrcfile in /usr/local/lib/python3.11/dist-packages (from GridDataFormats>=0.4.0->mdanalysis) (1.5.4)\n",
            "Requirement already satisfied: contourpy>=1.0.1 in /usr/local/lib/python3.11/dist-packages (from matplotlib>=1.5.1->mdanalysis) (1.3.1)\n",
            "Requirement already satisfied: cycler>=0.10 in /usr/local/lib/python3.11/dist-packages (from matplotlib>=1.5.1->mdanalysis) (0.12.1)\n",
            "Requirement already satisfied: fonttools>=4.22.0 in /usr/local/lib/python3.11/dist-packages (from matplotlib>=1.5.1->mdanalysis) (4.57.0)\n",
            "Requirement already satisfied: kiwisolver>=1.3.1 in /usr/local/lib/python3.11/dist-packages (from matplotlib>=1.5.1->mdanalysis) (1.4.8)\n",
            "Requirement already satisfied: pillow>=8 in /usr/local/lib/python3.11/dist-packages (from matplotlib>=1.5.1->mdanalysis) (11.1.0)\n",
            "Requirement already satisfied: pyparsing>=2.3.1 in /usr/local/lib/python3.11/dist-packages (from matplotlib>=1.5.1->mdanalysis) (3.2.3)\n",
            "Requirement already satisfied: python-dateutil>=2.7 in /usr/local/lib/python3.11/dist-packages (from matplotlib>=1.5.1->mdanalysis) (2.8.2)\n",
            "Requirement already satisfied: msgpack>=1.0.0 in /usr/local/lib/python3.11/dist-packages (from mmtf-python>=1.0.0->mdanalysis) (1.1.0)\n",
            "Requirement already satisfied: six>=1.5 in /usr/local/lib/python3.11/dist-packages (from python-dateutil>=2.7->matplotlib>=1.5.1->mdanalysis) (1.17.0)\n",
            "Requirement already satisfied: py3Dmol in /usr/local/lib/python3.11/dist-packages (2.4.2)\n"
          ]
        }
      ],
      "source": [
        "#@title Install dependencies\n",
        "import torch\n",
        "if \"2.6.0\" in torch.__version__:\n",
        "  !pip uninstall torch torch-cluster torch-geometric torch-scatter torchaudio torchvision -y\n",
        "  !pip install torch==2.4.0+cu124 torchvision torchaudio -f https://download.pytorch.org/whl/cu124/torch/\n",
        "  import torch\n",
        "\n",
        "torch_url = \"https://pytorch-geometric.com/whl/torch-{}.html\".format(torch.__version__).replace('+', '%2B')\n",
        "!pip install torch-cluster torch-geometric torch-scatter -f $torch_url\n",
        "!pip install e3nn\n",
        "!pip install rdkit\n",
        "!pip install mdanalysis\n",
        "!pip install py3Dmol\n",
        "\n",
        "if not os.path.exists(\"GeqShift\"):\n",
        "  !git clone https://github.com/gcourtade/GeqShift.git\n",
        "\n",
        "checkpoint_13C = \"_20240823_checkpoint_epoch-20_13C_nbr-confs-100.pkl\"\n",
        "if not os.path.exists(checkpoint_13C):\n",
        "  checkpoint_url = \"https://folk.ntnu.no/courtade/GeqShift_models/\" + checkpoint_13C\n",
        "  !wget $checkpoint_url\n",
        "\n",
        "checkpoint_1H = \"_20250411_checkpoint_epoch-20_1H_nbr-confs-100.pkl\"\n",
        "if not os.path.exists(checkpoint_1H):\n",
        "  checkpoint_url = \"https://folk.ntnu.no/courtade/GeqShift_models/\" + checkpoint_1H\n",
        "  !wget $checkpoint_url\n"
      ]
    },
    {
      "cell_type": "code",
      "source": [
        "#@title Run prediction\n",
        "!python GeqShift/predict_gpu.py --smiles_list \"$query_smiles\" --mol_name \"$jobname\" --checkpoint_path_13C $checkpoint_13C --checkpoint_path_1H $checkpoint_1H --nbr_confs $num_conformations"
      ],
      "metadata": {
        "colab": {
          "base_uri": "https://localhost:8080/"
        },
        "id": "ay1dTCibaUkw",
        "outputId": "0d1086aa-955b-4933-a46c-858ed6d00729"
      },
      "execution_count": 4,
      "outputs": [
        {
          "output_type": "stream",
          "name": "stdout",
          "text": [
            "/usr/local/lib/python3.11/dist-packages/torch_geometric/typing.py:86: UserWarning: An issue occurred while importing 'torch-scatter'. Disabling its usage. Stacktrace: /usr/local/lib/python3.11/dist-packages/torch_scatter/_scatter_cuda.so: undefined symbol: _ZN2at23SavedTensorDefaultHooks11set_tracingEb\n",
            "  warnings.warn(f\"An issue occurred while importing 'torch-scatter'. \"\n",
            "Traceback (most recent call last):\n",
            "  File \"/content/GeqShift/predict_gpu.py\", line 8, in <module>\n",
            "    from model.model import O3Transformer\n",
            "  File \"/content/GeqShift/model/model.py\", line 3, in <module>\n",
            "    from.layers import TransformerLayer_with_bond, CompuseTransformerNorm_bond_attr, FeedForwardNetwork, ComposeNetworkNorm, TransformerLayer_with_bond_invariant\n",
            "  File \"/content/GeqShift/model/layers.py\", line 3, in <module>\n",
            "    from torch_scatter import scatter\n",
            "  File \"/usr/local/lib/python3.11/dist-packages/torch_scatter/__init__.py\", line 16, in <module>\n",
            "    torch.ops.load_library(spec.origin)\n",
            "  File \"/usr/local/lib/python3.11/dist-packages/torch/_ops.py\", line 1295, in load_library\n",
            "    ctypes.CDLL(path)\n",
            "  File \"/usr/lib/python3.11/ctypes/__init__.py\", line 376, in __init__\n",
            "    self._handle = _dlopen(self._name, mode)\n",
            "                   ^^^^^^^^^^^^^^^^^^^^^^^^^\n",
            "OSError: /usr/local/lib/python3.11/dist-packages/torch_scatter/_scatter_cuda.so: undefined symbol: _ZN2at23SavedTensorDefaultHooks11set_tracingEb\n"
          ]
        }
      ]
    },
    {
      "cell_type": "code",
      "source": [
        "#@title Display 3D structure with <sup>13</sup>C chemical shifts\n",
        "\n",
        "import py3Dmol\n",
        "import glob\n",
        "\n",
        "def parse_pdb(pdb_file):\n",
        "    atoms = []\n",
        "    with open(pdb_file, 'r') as file:\n",
        "        for line in file:\n",
        "            if line.startswith(\"HETATM\"):\n",
        "                # Extract atom name, coordinates, and B-factor\n",
        "                atom_name = line[12:16].strip()\n",
        "                x = float(line[30:38].strip())\n",
        "                y = float(line[38:46].strip())\n",
        "                z = float(line[46:54].strip())\n",
        "                bfactor = float(line[60:66].strip())\n",
        "                atoms.append((atom_name, x, y, z, bfactor))\n",
        "    return atoms\n",
        "\n",
        "pdb_filename = f\"/content/predict/{jobname}_13C_shifts.pdb\"\n",
        "pdb_file = glob.glob(pdb_filename)\n",
        "atoms = parse_pdb(pdb_filename)\n",
        "\n",
        "view = py3Dmol.view(js='https://3dmol.org/build/3Dmol.js',)\n",
        "view.addModel(open(pdb_file[0],'r').read(),'pdb')\n",
        "\n",
        "view.setStyle({'stick': {}})\n",
        "\n",
        "for atom_name, x, y, z, bfactor in atoms:\n",
        "    if bfactor != 0:\n",
        "        label_content = f\"{bfactor:.2f}\"\n",
        "        view.addLabel(label_content, {'position': {'x': x, 'y': y, 'z': z}, 'fontSize': 12})\n",
        "\n",
        "view.zoomTo()\n",
        "\n",
        "view.show()\n"
      ],
      "metadata": {
        "colab": {
          "base_uri": "https://localhost:8080/",
          "height": 349
        },
        "id": "7apVDqZQE-wm",
        "outputId": "4335bed3-c1cb-4c36-b2fc-099fe7bb7f10"
      },
      "execution_count": 4,
      "outputs": [
        {
          "output_type": "error",
          "ename": "FileNotFoundError",
          "evalue": "[Errno 2] No such file or directory: '/content/predict/bDGlc_13C_shifts.pdb'",
          "traceback": [
            "\u001b[0;31m---------------------------------------------------------------------------\u001b[0m",
            "\u001b[0;31mFileNotFoundError\u001b[0m                         Traceback (most recent call last)",
            "\u001b[0;32m<ipython-input-4-dd32eb924cf8>\u001b[0m in \u001b[0;36m<cell line: 0>\u001b[0;34m()\u001b[0m\n\u001b[1;32m     20\u001b[0m \u001b[0mpdb_filename\u001b[0m \u001b[0;34m=\u001b[0m \u001b[0;34mf\"/content/predict/{jobname}_13C_shifts.pdb\"\u001b[0m\u001b[0;34m\u001b[0m\u001b[0;34m\u001b[0m\u001b[0m\n\u001b[1;32m     21\u001b[0m \u001b[0mpdb_file\u001b[0m \u001b[0;34m=\u001b[0m \u001b[0mglob\u001b[0m\u001b[0;34m.\u001b[0m\u001b[0mglob\u001b[0m\u001b[0;34m(\u001b[0m\u001b[0mpdb_filename\u001b[0m\u001b[0;34m)\u001b[0m\u001b[0;34m\u001b[0m\u001b[0;34m\u001b[0m\u001b[0m\n\u001b[0;32m---> 22\u001b[0;31m \u001b[0matoms\u001b[0m \u001b[0;34m=\u001b[0m \u001b[0mparse_pdb\u001b[0m\u001b[0;34m(\u001b[0m\u001b[0mpdb_filename\u001b[0m\u001b[0;34m)\u001b[0m\u001b[0;34m\u001b[0m\u001b[0;34m\u001b[0m\u001b[0m\n\u001b[0m\u001b[1;32m     23\u001b[0m \u001b[0;34m\u001b[0m\u001b[0m\n\u001b[1;32m     24\u001b[0m \u001b[0mview\u001b[0m \u001b[0;34m=\u001b[0m \u001b[0mpy3Dmol\u001b[0m\u001b[0;34m.\u001b[0m\u001b[0mview\u001b[0m\u001b[0;34m(\u001b[0m\u001b[0mjs\u001b[0m\u001b[0;34m=\u001b[0m\u001b[0;34m'https://3dmol.org/build/3Dmol.js'\u001b[0m\u001b[0;34m,\u001b[0m\u001b[0;34m)\u001b[0m\u001b[0;34m\u001b[0m\u001b[0;34m\u001b[0m\u001b[0m\n",
            "\u001b[0;32m<ipython-input-4-dd32eb924cf8>\u001b[0m in \u001b[0;36mparse_pdb\u001b[0;34m(pdb_file)\u001b[0m\n\u001b[1;32m      6\u001b[0m \u001b[0;32mdef\u001b[0m \u001b[0mparse_pdb\u001b[0m\u001b[0;34m(\u001b[0m\u001b[0mpdb_file\u001b[0m\u001b[0;34m)\u001b[0m\u001b[0;34m:\u001b[0m\u001b[0;34m\u001b[0m\u001b[0;34m\u001b[0m\u001b[0m\n\u001b[1;32m      7\u001b[0m     \u001b[0matoms\u001b[0m \u001b[0;34m=\u001b[0m \u001b[0;34m[\u001b[0m\u001b[0;34m]\u001b[0m\u001b[0;34m\u001b[0m\u001b[0;34m\u001b[0m\u001b[0m\n\u001b[0;32m----> 8\u001b[0;31m     \u001b[0;32mwith\u001b[0m \u001b[0mopen\u001b[0m\u001b[0;34m(\u001b[0m\u001b[0mpdb_file\u001b[0m\u001b[0;34m,\u001b[0m \u001b[0;34m'r'\u001b[0m\u001b[0;34m)\u001b[0m \u001b[0;32mas\u001b[0m \u001b[0mfile\u001b[0m\u001b[0;34m:\u001b[0m\u001b[0;34m\u001b[0m\u001b[0;34m\u001b[0m\u001b[0m\n\u001b[0m\u001b[1;32m      9\u001b[0m         \u001b[0;32mfor\u001b[0m \u001b[0mline\u001b[0m \u001b[0;32min\u001b[0m \u001b[0mfile\u001b[0m\u001b[0;34m:\u001b[0m\u001b[0;34m\u001b[0m\u001b[0;34m\u001b[0m\u001b[0m\n\u001b[1;32m     10\u001b[0m             \u001b[0;32mif\u001b[0m \u001b[0mline\u001b[0m\u001b[0;34m.\u001b[0m\u001b[0mstartswith\u001b[0m\u001b[0;34m(\u001b[0m\u001b[0;34m\"HETATM\"\u001b[0m\u001b[0;34m)\u001b[0m\u001b[0;34m:\u001b[0m\u001b[0;34m\u001b[0m\u001b[0;34m\u001b[0m\u001b[0m\n",
            "\u001b[0;31mFileNotFoundError\u001b[0m: [Errno 2] No such file or directory: '/content/predict/bDGlc_13C_shifts.pdb'"
          ]
        }
      ]
    },
    {
      "cell_type": "code",
      "source": [
        "#@title Display 3D structure with <sup>1</sup>H chemical shifts\n",
        "\n",
        "pdb_filename = f\"/content/predict/{jobname}_1H_shifts.pdb\"\n",
        "pdb_file = glob.glob(pdb_filename)\n",
        "atoms = parse_pdb(pdb_filename)\n",
        "\n",
        "view = py3Dmol.view(js='https://3dmol.org/build/3Dmol.js',)\n",
        "view.addModel(open(pdb_file[0],'r').read(),'pdb')\n",
        "\n",
        "view.setStyle({'stick': {}})\n",
        "\n",
        "for atom_name, x, y, z, bfactor in atoms:\n",
        "    if bfactor != 0:\n",
        "        label_content = f\"{bfactor:.2f}\"\n",
        "        view.addLabel(label_content, {'position': {'x': x, 'y': y, 'z': z}, 'fontSize': 12})\n",
        "\n",
        "view.zoomTo()\n",
        "\n",
        "view.show()\n"
      ],
      "metadata": {
        "id": "qUZOMigRi03W"
      },
      "execution_count": null,
      "outputs": []
    },
    {
      "cell_type": "code",
      "source": [
        "#@title Download the results\n",
        "zip_path = f\"/content/{jobname}.zip\"\n",
        "!zip -r  $zip_path /content/predict\n",
        "from google.colab import files\n",
        "files.download(zip_path)"
      ],
      "metadata": {
        "id": "s35L6-8g5RDN"
      },
      "execution_count": null,
      "outputs": []
    },
    {
      "cell_type": "markdown",
      "source": [
        "The chemical shifts are stored in the B-factor column of the _shifts.pdb file. To visualize chemical shifts on the structure, you can label the atoms by B-factor:\n",
        "1. Open `JOBNAME_shifts.pdb ` on PyMOL\n",
        "2. Type `label all, b` or click `L > b-factor`"
      ],
      "metadata": {
        "id": "2EL0sM65Rd31"
      }
    },
    {
      "cell_type": "code",
      "source": [],
      "metadata": {
        "id": "6otAOBBbsZ-e"
      },
      "execution_count": null,
      "outputs": []
    }
  ]
}