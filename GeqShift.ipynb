{
  "nbformat": 4,
  "nbformat_minor": 0,
  "metadata": {
    "colab": {
      "provenance": [],
      "gpuType": "T4",
      "authorship_tag": "ABX9TyPUW4jSMljX7mBl0gcUdl/S",
      "include_colab_link": true
    },
    "kernelspec": {
      "name": "python3",
      "display_name": "Python 3"
    },
    "language_info": {
      "name": "python"
    },
    "accelerator": "GPU"
  },
  "cells": [
    {
      "cell_type": "markdown",
      "metadata": {
        "id": "view-in-github",
        "colab_type": "text"
      },
      "source": [
        "<a href=\"https://colab.research.google.com/github/gcourtade/GeqShift/blob/main/GeqShift.ipynb\" target=\"_parent\"><img src=\"https://colab.research.google.com/assets/colab-badge.svg\" alt=\"Open In Colab\"/></a>"
      ]
    },
    {
      "cell_type": "markdown",
      "source": [
        "##GeqShift\n",
        "\n",
        "Easy to use carbohydrate <sup>13</sup>C NMR chemical shift prediction using GeqShift: an E(3) equivariant graph neural network.\n",
        "\n",
        "The original GeqShift code is available at https://github.com/mariabankestad/GeqShift.\n",
        "\n",
        "The dataset of 1H and 13C NMR chemical shifts are available at https://github.com/mariabankestad/GeqShift.\n",
        "\n",
        "Please read and cite the GeqShit paper:\n",
        "[Bånkestad M., Dorst K. M., Widmalm G., Rönnols J. Carbohydrate NMR chemical shift prediction by GeqShift employing E(3) equivariant graph neural networks\n",
        "*RSC Advances*, 2024](https://doi.org/10.1039/D4RA03428G)\n",
        "\n",
        "##### Disclaimer\n",
        "I made this Google Colab notebook for my own use and have no connection with the authors of the GeqShift paper. This notebook was is heavily inspired by and uses code from the [ColabFold](https://colab.research.google.com/github/sokrypton/ColabFold/blob/main/AlphaFold2.ipynb#scrollTo=mbaIO9pWjaN0) notebook. The model was trained using 100 conformations of the carbohydrates in the training set and 20 epochs. I cannot guarantee the correctness of the results generated using this code.\n",
        "\n",
        "--[Gaston Courtade](https://folk.ntnu.no/courtade), 2024-08-24"
      ],
      "metadata": {
        "id": "srfiZcf4EAlm"
      }
    },
    {
      "cell_type": "code",
      "source": [
        "#@title Input carbohydrate SMILES, then hit `Runtime` -> `Run all`\n",
        "import os\n",
        "\n",
        "\n",
        "query_smiles = 'C([C@@H]1[C@H]([C@@H]([C@H](C(O1)O)O)O)O)O' #@param {type:\"string\"}\n",
        "#@markdown  - Tip: Use [SMILES generator/checker](https://www.cheminfo.org/flavor/malaria/Utilities/SMILES_generator___checker/index.html) to edit SMILES.\n",
        "jobname = 'beta-glucose' #@param {type:\"string\"}\n",
        "# number of models to use\n",
        "num_conformations = 1 #@param {type: \"integer\"}\n",
        "#@markdown - Specify how many conformations should be generated in the ensemble for chemical shift prediction\n",
        "#@markdown - Tip: Best results are expected with around 100 conformations\n",
        "\n",
        "if os.path.exists(\"predict\"):\n",
        "  !rm -r /content/predict"
      ],
      "metadata": {
        "id": "WCPWHucDBIfu",
        "cellView": "form"
      },
      "execution_count": 5,
      "outputs": []
    },
    {
      "cell_type": "code",
      "execution_count": 6,
      "metadata": {
        "colab": {
          "base_uri": "https://localhost:8080/"
        },
        "id": "om6iAKOoZ57W",
        "outputId": "f2309ad8-646e-4f23-f76a-1d40bc549595",
        "cellView": "form"
      },
      "outputs": [
        {
          "output_type": "stream",
          "name": "stdout",
          "text": [
            "Looking in links: https://pytorch-geometric.com/whl/torch-2.4.0%2Bcu121.html\n",
            "Requirement already satisfied: torch-cluster in /usr/local/lib/python3.10/dist-packages (1.6.3+pt24cu121)\n",
            "Requirement already satisfied: torch-geometric in /usr/local/lib/python3.10/dist-packages (2.5.3)\n",
            "Requirement already satisfied: torch-scatter in /usr/local/lib/python3.10/dist-packages (2.1.2+pt24cu121)\n",
            "Requirement already satisfied: scipy in /usr/local/lib/python3.10/dist-packages (from torch-cluster) (1.13.1)\n",
            "Requirement already satisfied: tqdm in /usr/local/lib/python3.10/dist-packages (from torch-geometric) (4.66.5)\n",
            "Requirement already satisfied: numpy in /usr/local/lib/python3.10/dist-packages (from torch-geometric) (1.26.4)\n",
            "Requirement already satisfied: fsspec in /usr/local/lib/python3.10/dist-packages (from torch-geometric) (2024.6.1)\n",
            "Requirement already satisfied: jinja2 in /usr/local/lib/python3.10/dist-packages (from torch-geometric) (3.1.4)\n",
            "Requirement already satisfied: aiohttp in /usr/local/lib/python3.10/dist-packages (from torch-geometric) (3.10.5)\n",
            "Requirement already satisfied: requests in /usr/local/lib/python3.10/dist-packages (from torch-geometric) (2.32.3)\n",
            "Requirement already satisfied: pyparsing in /usr/local/lib/python3.10/dist-packages (from torch-geometric) (3.1.4)\n",
            "Requirement already satisfied: scikit-learn in /usr/local/lib/python3.10/dist-packages (from torch-geometric) (1.3.2)\n",
            "Requirement already satisfied: psutil>=5.8.0 in /usr/local/lib/python3.10/dist-packages (from torch-geometric) (5.9.5)\n",
            "Requirement already satisfied: aiohappyeyeballs>=2.3.0 in /usr/local/lib/python3.10/dist-packages (from aiohttp->torch-geometric) (2.4.0)\n",
            "Requirement already satisfied: aiosignal>=1.1.2 in /usr/local/lib/python3.10/dist-packages (from aiohttp->torch-geometric) (1.3.1)\n",
            "Requirement already satisfied: attrs>=17.3.0 in /usr/local/lib/python3.10/dist-packages (from aiohttp->torch-geometric) (24.2.0)\n",
            "Requirement already satisfied: frozenlist>=1.1.1 in /usr/local/lib/python3.10/dist-packages (from aiohttp->torch-geometric) (1.4.1)\n",
            "Requirement already satisfied: multidict<7.0,>=4.5 in /usr/local/lib/python3.10/dist-packages (from aiohttp->torch-geometric) (6.0.5)\n",
            "Requirement already satisfied: yarl<2.0,>=1.0 in /usr/local/lib/python3.10/dist-packages (from aiohttp->torch-geometric) (1.9.4)\n",
            "Requirement already satisfied: async-timeout<5.0,>=4.0 in /usr/local/lib/python3.10/dist-packages (from aiohttp->torch-geometric) (4.0.3)\n",
            "Requirement already satisfied: MarkupSafe>=2.0 in /usr/local/lib/python3.10/dist-packages (from jinja2->torch-geometric) (2.1.5)\n",
            "Requirement already satisfied: charset-normalizer<4,>=2 in /usr/local/lib/python3.10/dist-packages (from requests->torch-geometric) (3.3.2)\n",
            "Requirement already satisfied: idna<4,>=2.5 in /usr/local/lib/python3.10/dist-packages (from requests->torch-geometric) (3.8)\n",
            "Requirement already satisfied: urllib3<3,>=1.21.1 in /usr/local/lib/python3.10/dist-packages (from requests->torch-geometric) (2.0.7)\n",
            "Requirement already satisfied: certifi>=2017.4.17 in /usr/local/lib/python3.10/dist-packages (from requests->torch-geometric) (2024.7.4)\n",
            "Requirement already satisfied: joblib>=1.1.1 in /usr/local/lib/python3.10/dist-packages (from scikit-learn->torch-geometric) (1.4.2)\n",
            "Requirement already satisfied: threadpoolctl>=2.0.0 in /usr/local/lib/python3.10/dist-packages (from scikit-learn->torch-geometric) (3.5.0)\n",
            "Requirement already satisfied: e3nn in /usr/local/lib/python3.10/dist-packages (0.5.1)\n",
            "Requirement already satisfied: sympy in /usr/local/lib/python3.10/dist-packages (from e3nn) (1.13.2)\n",
            "Requirement already satisfied: scipy in /usr/local/lib/python3.10/dist-packages (from e3nn) (1.13.1)\n",
            "Requirement already satisfied: torch>=1.8.0 in /usr/local/lib/python3.10/dist-packages (from e3nn) (2.4.0+cu121)\n",
            "Requirement already satisfied: opt-einsum-fx>=0.1.4 in /usr/local/lib/python3.10/dist-packages (from e3nn) (0.1.4)\n",
            "Requirement already satisfied: opt-einsum in /usr/local/lib/python3.10/dist-packages (from opt-einsum-fx>=0.1.4->e3nn) (3.3.0)\n",
            "Requirement already satisfied: packaging in /usr/local/lib/python3.10/dist-packages (from opt-einsum-fx>=0.1.4->e3nn) (24.1)\n",
            "Requirement already satisfied: filelock in /usr/local/lib/python3.10/dist-packages (from torch>=1.8.0->e3nn) (3.15.4)\n",
            "Requirement already satisfied: typing-extensions>=4.8.0 in /usr/local/lib/python3.10/dist-packages (from torch>=1.8.0->e3nn) (4.12.2)\n",
            "Requirement already satisfied: networkx in /usr/local/lib/python3.10/dist-packages (from torch>=1.8.0->e3nn) (3.3)\n",
            "Requirement already satisfied: jinja2 in /usr/local/lib/python3.10/dist-packages (from torch>=1.8.0->e3nn) (3.1.4)\n",
            "Requirement already satisfied: fsspec in /usr/local/lib/python3.10/dist-packages (from torch>=1.8.0->e3nn) (2024.6.1)\n",
            "Requirement already satisfied: numpy<2.3,>=1.22.4 in /usr/local/lib/python3.10/dist-packages (from scipy->e3nn) (1.26.4)\n",
            "Requirement already satisfied: mpmath<1.4,>=1.1.0 in /usr/local/lib/python3.10/dist-packages (from sympy->e3nn) (1.3.0)\n",
            "Requirement already satisfied: MarkupSafe>=2.0 in /usr/local/lib/python3.10/dist-packages (from jinja2->torch>=1.8.0->e3nn) (2.1.5)\n",
            "Requirement already satisfied: rdkit in /usr/local/lib/python3.10/dist-packages (2024.3.5)\n",
            "Requirement already satisfied: numpy in /usr/local/lib/python3.10/dist-packages (from rdkit) (1.26.4)\n",
            "Requirement already satisfied: Pillow in /usr/local/lib/python3.10/dist-packages (from rdkit) (9.4.0)\n",
            "Requirement already satisfied: mdanalysis in /usr/local/lib/python3.10/dist-packages (2.7.0)\n",
            "Requirement already satisfied: numpy<2.0,>=1.22.3 in /usr/local/lib/python3.10/dist-packages (from mdanalysis) (1.26.4)\n",
            "Requirement already satisfied: GridDataFormats>=0.4.0 in /usr/local/lib/python3.10/dist-packages (from mdanalysis) (1.0.2)\n",
            "Requirement already satisfied: mmtf-python>=1.0.0 in /usr/local/lib/python3.10/dist-packages (from mdanalysis) (1.1.3)\n",
            "Requirement already satisfied: joblib>=0.12 in /usr/local/lib/python3.10/dist-packages (from mdanalysis) (1.4.2)\n",
            "Requirement already satisfied: scipy>=1.5.0 in /usr/local/lib/python3.10/dist-packages (from mdanalysis) (1.13.1)\n",
            "Requirement already satisfied: matplotlib>=1.5.1 in /usr/local/lib/python3.10/dist-packages (from mdanalysis) (3.7.1)\n",
            "Requirement already satisfied: tqdm>=4.43.0 in /usr/local/lib/python3.10/dist-packages (from mdanalysis) (4.66.5)\n",
            "Requirement already satisfied: threadpoolctl in /usr/local/lib/python3.10/dist-packages (from mdanalysis) (3.5.0)\n",
            "Requirement already satisfied: packaging in /usr/local/lib/python3.10/dist-packages (from mdanalysis) (24.1)\n",
            "Requirement already satisfied: fasteners in /usr/local/lib/python3.10/dist-packages (from mdanalysis) (0.19)\n",
            "Requirement already satisfied: mda-xdrlib in /usr/local/lib/python3.10/dist-packages (from mdanalysis) (0.2.0)\n",
            "Requirement already satisfied: mrcfile in /usr/local/lib/python3.10/dist-packages (from GridDataFormats>=0.4.0->mdanalysis) (1.5.3)\n",
            "Requirement already satisfied: contourpy>=1.0.1 in /usr/local/lib/python3.10/dist-packages (from matplotlib>=1.5.1->mdanalysis) (1.3.0)\n",
            "Requirement already satisfied: cycler>=0.10 in /usr/local/lib/python3.10/dist-packages (from matplotlib>=1.5.1->mdanalysis) (0.12.1)\n",
            "Requirement already satisfied: fonttools>=4.22.0 in /usr/local/lib/python3.10/dist-packages (from matplotlib>=1.5.1->mdanalysis) (4.53.1)\n",
            "Requirement already satisfied: kiwisolver>=1.0.1 in /usr/local/lib/python3.10/dist-packages (from matplotlib>=1.5.1->mdanalysis) (1.4.5)\n",
            "Requirement already satisfied: pillow>=6.2.0 in /usr/local/lib/python3.10/dist-packages (from matplotlib>=1.5.1->mdanalysis) (9.4.0)\n",
            "Requirement already satisfied: pyparsing>=2.3.1 in /usr/local/lib/python3.10/dist-packages (from matplotlib>=1.5.1->mdanalysis) (3.1.4)\n",
            "Requirement already satisfied: python-dateutil>=2.7 in /usr/local/lib/python3.10/dist-packages (from matplotlib>=1.5.1->mdanalysis) (2.8.2)\n",
            "Requirement already satisfied: msgpack>=1.0.0 in /usr/local/lib/python3.10/dist-packages (from mmtf-python>=1.0.0->mdanalysis) (1.0.8)\n",
            "Requirement already satisfied: six>=1.5 in /usr/local/lib/python3.10/dist-packages (from python-dateutil>=2.7->matplotlib>=1.5.1->mdanalysis) (1.16.0)\n",
            "Requirement already satisfied: py3Dmol in /usr/local/lib/python3.10/dist-packages (2.4.0)\n"
          ]
        }
      ],
      "source": [
        "#@title Install dependencies\n",
        "\n",
        "import torch\n",
        "\n",
        "torch_url = \"https://pytorch-geometric.com/whl/torch-{}.html\".format(torch.__version__).replace('+', '%2B')\n",
        "!pip install torch-cluster torch-geometric torch-scatter -f $torch_url\n",
        "!pip install e3nn\n",
        "!pip install rdkit\n",
        "!pip install mdanalysis\n",
        "!pip install py3Dmol\n",
        "\n",
        "if not os.path.exists(\"GeqShift\"):\n",
        "  !git clone https://github.com/gcourtade/GeqShift.git\n",
        "\n",
        "checkpoint_file = \"_20240823_checkpoint_epoch-20_nbr-confs-100.pkl\"\n",
        "if not os.path.exists(checkpoint_file):\n",
        "  checkpoint_url = \"https://folk.ntnu.no/courtade/GeqShift_models/\" + checkpoint_file\n",
        "  !curl -O $checkpoint_url\n",
        "\n",
        "!mv GeqShift/predict_gpu.py ."
      ]
    },
    {
      "cell_type": "code",
      "source": [
        "#@title Run prediction\n",
        "!python predict_gpu.py --smiles_list \"$query_smiles\" --mol_name \"$jobname\" --checkpoint_path $checkpoint_file --nbr_confs $num_conformations"
      ],
      "metadata": {
        "colab": {
          "base_uri": "https://localhost:8080/"
        },
        "id": "ay1dTCibaUkw",
        "outputId": "efd2ea14-1bb0-44ea-ccb9-b4ef48c7ff2f",
        "cellView": "form"
      },
      "execution_count": 9,
      "outputs": [
        {
          "output_type": "stream",
          "name": "stdout",
          "text": [
            "/content/GeqShift/model/norms.py:164: FutureWarning: `torch.cuda.amp.autocast(args...)` is deprecated. Please use `torch.amp.autocast('cuda', args...)` instead.\n",
            "  @torch.cuda.amp.autocast(enabled=False)\n",
            "{0: 0.0, 1: 0.0, 2: 0.0, 3: 0.0, 4: 0.0, 5: 0.0, }\n",
            "Loaded checkpoint from _20240823_checkpoint_epoch-20_nbr-confs-100.pkl\n",
            "Predict chemical shifts ...\n",
            "Predictions saved to predict//glucose_predictions.pkl\n",
            "[12:44:04] Molecule does not have explicit Hs. Consider calling AddHs()\n",
            "[12:44:04] Molecule does not have explicit Hs. Consider calling AddHs()\n",
            "Coordinates saved to predict//glucose.pdb\n",
            "Coordinates with shifts in Bfactor col saved to predict//glucose_shifts.pdb\n",
            "Predicted chemical shifts:\n",
            "13C_idx, CS\n",
            "0 61.85\n",
            "1 72.39\n",
            "2 70.63\n",
            "3 73.83\n",
            "4 72.47\n",
            "5 93.02\n"
          ]
        }
      ]
    },
    {
      "cell_type": "code",
      "source": [
        "#@title Display 3D structure with <sup>13</sup>C chemical shifts\n",
        "\n",
        "import py3Dmol\n",
        "import glob\n",
        "\n",
        "def parse_pdb(pdb_file):\n",
        "    atoms = []\n",
        "    with open(pdb_file, 'r') as file:\n",
        "        for line in file:\n",
        "            if line.startswith(\"HETATM\"):\n",
        "                # Extract atom name, coordinates, and B-factor\n",
        "                atom_name = line[12:16].strip()\n",
        "                x = float(line[30:38].strip())\n",
        "                y = float(line[38:46].strip())\n",
        "                z = float(line[46:54].strip())\n",
        "                bfactor = float(line[60:66].strip())\n",
        "                atoms.append((atom_name, x, y, z, bfactor))\n",
        "    return atoms\n",
        "\n",
        "pdb_filename = f\"/content/predict/{jobname}_shifts.pdb\"\n",
        "pdb_file = glob.glob(pdb_filename)\n",
        "atoms = parse_pdb(pdb_filename)\n",
        "\n",
        "view = py3Dmol.view(js='https://3dmol.org/build/3Dmol.js',)\n",
        "view.addModel(open(pdb_file[0],'r').read(),'pdb')\n",
        "\n",
        "view.setStyle({'stick': {}})\n",
        "\n",
        "for atom_name, x, y, z, bfactor in atoms:\n",
        "    if bfactor != 0:\n",
        "        label_content = f\"{bfactor:.2f}\"\n",
        "        view.addLabel(label_content, {'position': {'x': x, 'y': y, 'z': z}, 'fontSize': 12})\n",
        "\n",
        "view.zoomTo()\n",
        "\n",
        "view.show()\n"
      ],
      "metadata": {
        "colab": {
          "base_uri": "https://localhost:8080/",
          "height": 497
        },
        "cellView": "form",
        "id": "7apVDqZQE-wm",
        "outputId": "595f71c0-a048-4c3f-e8dc-4e167d70c619"
      },
      "execution_count": 10,
      "outputs": [
        {
          "output_type": "display_data",
          "data": {
            "application/3dmoljs_load.v0": "<div id=\"3dmolviewer_17254538479384377\"  style=\"position: relative; width: 640px; height: 480px;\">\n        <p id=\"3dmolwarning_17254538479384377\" style=\"background-color:#ffcccc;color:black\">3Dmol.js failed to load for some reason.  Please check your browser console for error messages.<br></p>\n        </div>\n<script>\n\nvar loadScriptAsync = function(uri){\n  return new Promise((resolve, reject) => {\n    //this is to ignore the existence of requirejs amd\n    var savedexports, savedmodule;\n    if (typeof exports !== 'undefined') savedexports = exports;\n    else exports = {}\n    if (typeof module !== 'undefined') savedmodule = module;\n    else module = {}\n\n    var tag = document.createElement('script');\n    tag.src = uri;\n    tag.async = true;\n    tag.onload = () => {\n        exports = savedexports;\n        module = savedmodule;\n        resolve();\n    };\n  var firstScriptTag = document.getElementsByTagName('script')[0];\n  firstScriptTag.parentNode.insertBefore(tag, firstScriptTag);\n});\n};\n\nif(typeof $3Dmolpromise === 'undefined') {\n$3Dmolpromise = null;\n  $3Dmolpromise = loadScriptAsync('https://3dmol.org/build/3Dmol.js');\n}\n\nvar viewer_17254538479384377 = null;\nvar warn = document.getElementById(\"3dmolwarning_17254538479384377\");\nif(warn) {\n    warn.parentNode.removeChild(warn);\n}\n$3Dmolpromise.then(function() {\nviewer_17254538479384377 = $3Dmol.createViewer(document.getElementById(\"3dmolviewer_17254538479384377\"),{backgroundColor:\"white\"});\nviewer_17254538479384377.zoomTo();\n\tviewer_17254538479384377.addModel(\"HEADER    \\nTITLE     MDANALYSIS FRAMES FROM 0, STEP 1: Created by PDBWriter\\nCRYST1    1.000    1.000    1.000  90.00  90.00  90.00 P 1           1\\nREMARK     285 UNITARY VALUES FOR THE UNIT CELL AUTOMATICALLY SET\\nREMARK     285 BY MDANALYSIS PDBWRITER BECAUSE UNIT CELL INFORMATION\\nREMARK     285 WAS MISSING.\\nREMARK     285 PROTEIN DATA BANK CONVENTIONS REQUIRE THAT\\nREMARK     285 CRYST1 RECORD IS INCLUDED, BUT THE VALUES ON\\nREMARK     285 THIS RECORD ARE MEANINGLESS.\\nMODEL        1\\nHETATM    1  C1  UNL X   1       2.434   0.255  -0.515  1.00 61.85      SYST C  \\nHETATM    2  C2  UNL X   1       0.943   0.352  -0.778  1.00 72.39      SYST C  \\nHETATM    3  C3  UNL X   1       0.296   1.230   0.279  1.00 70.63      SYST C  \\nHETATM    4  C4  UNL X   1      -1.176   0.906   0.400  1.00 73.83      SYST C  \\nHETATM    5  C5  UNL X   1      -1.367  -0.543   0.804  1.00 72.47      SYST C  \\nHETATM    6  C6  UNL X   1      -0.191  -1.388   0.334  1.00 93.02      SYST C  \\nHETATM    7  O1  UNL X   1       0.335  -0.933  -0.903  1.00  0.00      SYST O  \\nHETATM    8  O2  UNL X   1      -0.481  -2.768   0.337  1.00  0.00      SYST O  \\nHETATM    9  O3  UNL X   1      -2.602  -0.991   0.263  1.00  0.00      SYST O  \\nHETATM   10  O4  UNL X   1      -1.779   1.729   1.389  1.00  0.00      SYST O  \\nHETATM   11  O5  UNL X   1       0.516   2.591  -0.040  1.00  0.00      SYST O  \\nHETATM   12  O6  UNL X   1       3.073  -0.441  -1.570  1.00  0.00      SYST O  \\nENDMDL\\nCONECT    1    2   12\\nCONECT    2    1    3    7\\nCONECT    3    2    4   11\\nCONECT    4    3    5   10\\nCONECT    5    4    6    9\\nCONECT    6    5    7    8\\nCONECT    7    2    6\\nCONECT    8    6\\nCONECT    9    5\\nCONECT   10    4\\nCONECT   11    3\\nCONECT   12    1\\nEND\\n\",\"pdb\");\n\tviewer_17254538479384377.setStyle({\"stick\": {}});\n\tviewer_17254538479384377.addLabel(\"61.85\",{\"position\": {\"x\": 2.434, \"y\": 0.255, \"z\": -0.515}, \"fontSize\": 12});\n\tviewer_17254538479384377.addLabel(\"72.39\",{\"position\": {\"x\": 0.943, \"y\": 0.352, \"z\": -0.778}, \"fontSize\": 12});\n\tviewer_17254538479384377.addLabel(\"70.63\",{\"position\": {\"x\": 0.296, \"y\": 1.23, \"z\": 0.279}, \"fontSize\": 12});\n\tviewer_17254538479384377.addLabel(\"73.83\",{\"position\": {\"x\": -1.176, \"y\": 0.906, \"z\": 0.4}, \"fontSize\": 12});\n\tviewer_17254538479384377.addLabel(\"72.47\",{\"position\": {\"x\": -1.367, \"y\": -0.543, \"z\": 0.804}, \"fontSize\": 12});\n\tviewer_17254538479384377.addLabel(\"93.02\",{\"position\": {\"x\": -0.191, \"y\": -1.388, \"z\": 0.334}, \"fontSize\": 12});\n\tviewer_17254538479384377.zoomTo();\nviewer_17254538479384377.render();\n});\n</script>",
            "text/html": [
              "<div id=\"3dmolviewer_17254538479384377\"  style=\"position: relative; width: 640px; height: 480px;\">\n",
              "        <p id=\"3dmolwarning_17254538479384377\" style=\"background-color:#ffcccc;color:black\">3Dmol.js failed to load for some reason.  Please check your browser console for error messages.<br></p>\n",
              "        </div>\n",
              "<script>\n",
              "\n",
              "var loadScriptAsync = function(uri){\n",
              "  return new Promise((resolve, reject) => {\n",
              "    //this is to ignore the existence of requirejs amd\n",
              "    var savedexports, savedmodule;\n",
              "    if (typeof exports !== 'undefined') savedexports = exports;\n",
              "    else exports = {}\n",
              "    if (typeof module !== 'undefined') savedmodule = module;\n",
              "    else module = {}\n",
              "\n",
              "    var tag = document.createElement('script');\n",
              "    tag.src = uri;\n",
              "    tag.async = true;\n",
              "    tag.onload = () => {\n",
              "        exports = savedexports;\n",
              "        module = savedmodule;\n",
              "        resolve();\n",
              "    };\n",
              "  var firstScriptTag = document.getElementsByTagName('script')[0];\n",
              "  firstScriptTag.parentNode.insertBefore(tag, firstScriptTag);\n",
              "});\n",
              "};\n",
              "\n",
              "if(typeof $3Dmolpromise === 'undefined') {\n",
              "$3Dmolpromise = null;\n",
              "  $3Dmolpromise = loadScriptAsync('https://3dmol.org/build/3Dmol.js');\n",
              "}\n",
              "\n",
              "var viewer_17254538479384377 = null;\n",
              "var warn = document.getElementById(\"3dmolwarning_17254538479384377\");\n",
              "if(warn) {\n",
              "    warn.parentNode.removeChild(warn);\n",
              "}\n",
              "$3Dmolpromise.then(function() {\n",
              "viewer_17254538479384377 = $3Dmol.createViewer(document.getElementById(\"3dmolviewer_17254538479384377\"),{backgroundColor:\"white\"});\n",
              "viewer_17254538479384377.zoomTo();\n",
              "\tviewer_17254538479384377.addModel(\"HEADER    \\nTITLE     MDANALYSIS FRAMES FROM 0, STEP 1: Created by PDBWriter\\nCRYST1    1.000    1.000    1.000  90.00  90.00  90.00 P 1           1\\nREMARK     285 UNITARY VALUES FOR THE UNIT CELL AUTOMATICALLY SET\\nREMARK     285 BY MDANALYSIS PDBWRITER BECAUSE UNIT CELL INFORMATION\\nREMARK     285 WAS MISSING.\\nREMARK     285 PROTEIN DATA BANK CONVENTIONS REQUIRE THAT\\nREMARK     285 CRYST1 RECORD IS INCLUDED, BUT THE VALUES ON\\nREMARK     285 THIS RECORD ARE MEANINGLESS.\\nMODEL        1\\nHETATM    1  C1  UNL X   1       2.434   0.255  -0.515  1.00 61.85      SYST C  \\nHETATM    2  C2  UNL X   1       0.943   0.352  -0.778  1.00 72.39      SYST C  \\nHETATM    3  C3  UNL X   1       0.296   1.230   0.279  1.00 70.63      SYST C  \\nHETATM    4  C4  UNL X   1      -1.176   0.906   0.400  1.00 73.83      SYST C  \\nHETATM    5  C5  UNL X   1      -1.367  -0.543   0.804  1.00 72.47      SYST C  \\nHETATM    6  C6  UNL X   1      -0.191  -1.388   0.334  1.00 93.02      SYST C  \\nHETATM    7  O1  UNL X   1       0.335  -0.933  -0.903  1.00  0.00      SYST O  \\nHETATM    8  O2  UNL X   1      -0.481  -2.768   0.337  1.00  0.00      SYST O  \\nHETATM    9  O3  UNL X   1      -2.602  -0.991   0.263  1.00  0.00      SYST O  \\nHETATM   10  O4  UNL X   1      -1.779   1.729   1.389  1.00  0.00      SYST O  \\nHETATM   11  O5  UNL X   1       0.516   2.591  -0.040  1.00  0.00      SYST O  \\nHETATM   12  O6  UNL X   1       3.073  -0.441  -1.570  1.00  0.00      SYST O  \\nENDMDL\\nCONECT    1    2   12\\nCONECT    2    1    3    7\\nCONECT    3    2    4   11\\nCONECT    4    3    5   10\\nCONECT    5    4    6    9\\nCONECT    6    5    7    8\\nCONECT    7    2    6\\nCONECT    8    6\\nCONECT    9    5\\nCONECT   10    4\\nCONECT   11    3\\nCONECT   12    1\\nEND\\n\",\"pdb\");\n",
              "\tviewer_17254538479384377.setStyle({\"stick\": {}});\n",
              "\tviewer_17254538479384377.addLabel(\"61.85\",{\"position\": {\"x\": 2.434, \"y\": 0.255, \"z\": -0.515}, \"fontSize\": 12});\n",
              "\tviewer_17254538479384377.addLabel(\"72.39\",{\"position\": {\"x\": 0.943, \"y\": 0.352, \"z\": -0.778}, \"fontSize\": 12});\n",
              "\tviewer_17254538479384377.addLabel(\"70.63\",{\"position\": {\"x\": 0.296, \"y\": 1.23, \"z\": 0.279}, \"fontSize\": 12});\n",
              "\tviewer_17254538479384377.addLabel(\"73.83\",{\"position\": {\"x\": -1.176, \"y\": 0.906, \"z\": 0.4}, \"fontSize\": 12});\n",
              "\tviewer_17254538479384377.addLabel(\"72.47\",{\"position\": {\"x\": -1.367, \"y\": -0.543, \"z\": 0.804}, \"fontSize\": 12});\n",
              "\tviewer_17254538479384377.addLabel(\"93.02\",{\"position\": {\"x\": -0.191, \"y\": -1.388, \"z\": 0.334}, \"fontSize\": 12});\n",
              "\tviewer_17254538479384377.zoomTo();\n",
              "viewer_17254538479384377.render();\n",
              "});\n",
              "</script>"
            ]
          },
          "metadata": {}
        }
      ]
    },
    {
      "cell_type": "code",
      "source": [
        "#@title Download the results\n",
        "zip_path = f\"/content/{jobname}.zip\"\n",
        "!zip -r  $zip_path /content/predict\n",
        "from google.colab import files\n",
        "files.download(zip_path)"
      ],
      "metadata": {
        "colab": {
          "base_uri": "https://localhost:8080/",
          "height": 121
        },
        "id": "s35L6-8g5RDN",
        "outputId": "2d8c85be-c943-4f51-a042-9236c32709b1"
      },
      "execution_count": 11,
      "outputs": [
        {
          "output_type": "stream",
          "name": "stdout",
          "text": [
            "  adding: content/predict/ (stored 0%)\n",
            "  adding: content/predict/glucose_conformations.pickle (deflated 0%)\n",
            "  adding: content/predict/glucose_pred_data.pkl (deflated 74%)\n",
            "  adding: content/predict/glucose.pdb (deflated 73%)\n",
            "  adding: content/predict/glucose_shifts.pdb (deflated 65%)\n",
            "  adding: content/predict/glucose_predictions.pkl (deflated 17%)\n"
          ]
        },
        {
          "output_type": "display_data",
          "data": {
            "text/plain": [
              "<IPython.core.display.Javascript object>"
            ],
            "application/javascript": [
              "\n",
              "    async function download(id, filename, size) {\n",
              "      if (!google.colab.kernel.accessAllowed) {\n",
              "        return;\n",
              "      }\n",
              "      const div = document.createElement('div');\n",
              "      const label = document.createElement('label');\n",
              "      label.textContent = `Downloading \"${filename}\": `;\n",
              "      div.appendChild(label);\n",
              "      const progress = document.createElement('progress');\n",
              "      progress.max = size;\n",
              "      div.appendChild(progress);\n",
              "      document.body.appendChild(div);\n",
              "\n",
              "      const buffers = [];\n",
              "      let downloaded = 0;\n",
              "\n",
              "      const channel = await google.colab.kernel.comms.open(id);\n",
              "      // Send a message to notify the kernel that we're ready.\n",
              "      channel.send({})\n",
              "\n",
              "      for await (const message of channel.messages) {\n",
              "        // Send a message to notify the kernel that we're ready.\n",
              "        channel.send({})\n",
              "        if (message.buffers) {\n",
              "          for (const buffer of message.buffers) {\n",
              "            buffers.push(buffer);\n",
              "            downloaded += buffer.byteLength;\n",
              "            progress.value = downloaded;\n",
              "          }\n",
              "        }\n",
              "      }\n",
              "      const blob = new Blob(buffers, {type: 'application/binary'});\n",
              "      const a = document.createElement('a');\n",
              "      a.href = window.URL.createObjectURL(blob);\n",
              "      a.download = filename;\n",
              "      div.appendChild(a);\n",
              "      a.click();\n",
              "      div.remove();\n",
              "    }\n",
              "  "
            ]
          },
          "metadata": {}
        },
        {
          "output_type": "display_data",
          "data": {
            "text/plain": [
              "<IPython.core.display.Javascript object>"
            ],
            "application/javascript": [
              "download(\"download_83123a2a-c512-4328-825b-d3dd9a85836c\", \"glucose.zip\", 4214)"
            ]
          },
          "metadata": {}
        }
      ]
    },
    {
      "cell_type": "markdown",
      "source": [
        "The chemical shifts are stored in the B-factor column of the _shifts.pdb file. To visualize chemical shifts on the structure, you can label the atoms by B-factor:\n",
        "1. Open `JOBNAME_shifts.pdb ` on PyMOL\n",
        "2. Type `label all, b` or click `L > b-factor`"
      ],
      "metadata": {
        "id": "2EL0sM65Rd31"
      }
    }
  ]
}