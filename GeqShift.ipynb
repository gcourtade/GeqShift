{
  "nbformat": 4,
  "nbformat_minor": 0,
  "metadata": {
    "colab": {
      "provenance": [],
      "gpuType": "T4",
      "authorship_tag": "ABX9TyOXRfgBbmym2q/nTywl7Zwa",
      "include_colab_link": true
    },
    "kernelspec": {
      "name": "python3",
      "display_name": "Python 3"
    },
    "language_info": {
      "name": "python"
    },
    "accelerator": "GPU"
  },
  "cells": [
    {
      "cell_type": "markdown",
      "metadata": {
        "id": "view-in-github",
        "colab_type": "text"
      },
      "source": [
        "<a href=\"https://colab.research.google.com/github/gcourtade/GeqShift/blob/main/GeqShift.ipynb\" target=\"_parent\"><img src=\"https://colab.research.google.com/assets/colab-badge.svg\" alt=\"Open In Colab\"/></a>"
      ]
    },
    {
      "cell_type": "markdown",
      "source": [
        "##GeqShift\n",
        "\n",
        "Easy to use carbohydrate <sup>13</sup>C and <sup>1</sup>H NMR chemical shift prediction using GeqShift: an E(3) equivariant graph neural network.\n",
        "\n",
        "The original GeqShift code is available at https://github.com/mariabankestad/GeqShift.\n",
        "\n",
        "The dataset of 1H and 13C NMR chemical shifts are available at https://github.com/mariabankestad/GeqShift.\n",
        "\n",
        "Please read and cite the GeqShit paper:\n",
        "[Bånkestad M., Dorst K. M., Widmalm G., Rönnols J. Carbohydrate NMR chemical shift prediction by GeqShift employing E(3) equivariant graph neural networks\n",
        "*RSC Advances*, 2024](https://doi.org/10.1039/D4RA03428G)\n",
        "\n",
        "##### Disclaimer\n",
        "I made this Google Colab notebook for my own use and have no connection with the authors of the GeqShift paper. This notebook was is heavily inspired by and uses code from the [ColabFold](https://colab.research.google.com/github/sokrypton/ColabFold/blob/main/AlphaFold2.ipynb#scrollTo=mbaIO9pWjaN0) notebook. The model was trained using 100 conformations of the carbohydrates in the training set and 20 epochs. I cannot guarantee the correctness of the results generated using this code.\n",
        "\n",
        "--[Gaston Courtade](https://folk.ntnu.no/courtade), 2025-04-10"
      ],
      "metadata": {
        "id": "srfiZcf4EAlm"
      }
    },
    {
      "cell_type": "code",
      "source": [
        "#@title Input carbohydrate SMILES, then hit `Runtime` -> `Run all`\n",
        "import os\n",
        "\n",
        "\n",
        "query_smiles = 'C([C@@H]1[C@H]([C@@H]([C@H](C(O1)O)O)O)O)O' #@param {type:\"string\"}\n",
        "#@markdown  - Tip: Use [SMILES generator/checker](https://www.cheminfo.org/flavor/malaria/Utilities/SMILES_generator___checker/index.html) to edit SMILES.\n",
        "jobname = 'bDGlc' #@param {type:\"string\"}\n",
        "# number of models to use\n",
        "num_conformations = 100 #@param {type: \"integer\"}\n",
        "#@markdown - Specify how many conformations should be generated in the ensemble for chemical shift prediction\n",
        "#@markdown - Tip: Best results are expected with around 100 conformations\n",
        "\n",
        "if os.path.exists(\"predict\"):\n",
        "  !rm -r /content/predict"
      ],
      "metadata": {
        "id": "WCPWHucDBIfu",
        "cellView": "form"
      },
      "execution_count": 8,
      "outputs": []
    },
    {
      "cell_type": "code",
      "execution_count": 4,
      "metadata": {
        "colab": {
          "base_uri": "https://localhost:8080/",
          "height": 1000
        },
        "id": "om6iAKOoZ57W",
        "outputId": "d4cc0aeb-eba3-4e35-be18-7b7ba856a93c",
        "cellView": "form"
      },
      "outputs": [
        {
          "output_type": "stream",
          "name": "stdout",
          "text": [
            "Found existing installation: torch 2.4.0+cu124\n",
            "Uninstalling torch-2.4.0+cu124:\n",
            "  Successfully uninstalled torch-2.4.0+cu124\n",
            "Found existing installation: torch_cluster 1.6.3+pt24cu124\n",
            "Uninstalling torch_cluster-1.6.3+pt24cu124:\n",
            "  Successfully uninstalled torch_cluster-1.6.3+pt24cu124\n",
            "Found existing installation: torch-geometric 2.6.1\n",
            "Uninstalling torch-geometric-2.6.1:\n",
            "  Successfully uninstalled torch-geometric-2.6.1\n",
            "Found existing installation: torch_scatter 2.1.2+pt24cu124\n",
            "Uninstalling torch_scatter-2.1.2+pt24cu124:\n",
            "  Successfully uninstalled torch_scatter-2.1.2+pt24cu124\n",
            "Found existing installation: torchaudio 2.4.0\n",
            "Uninstalling torchaudio-2.4.0:\n",
            "  Successfully uninstalled torchaudio-2.4.0\n",
            "Found existing installation: torchvision 0.19.0\n",
            "Uninstalling torchvision-0.19.0:\n",
            "  Successfully uninstalled torchvision-0.19.0\n",
            "Looking in links: https://download.pytorch.org/whl/cu124/torch/\n",
            "Collecting torch==2.4.0+cu124\n",
            "  Using cached https://download.pytorch.org/whl/cu124/torch-2.4.0%2Bcu124-cp311-cp311-linux_x86_64.whl (797.3 MB)\n",
            "Collecting torchvision\n",
            "  Using cached torchvision-0.21.0-cp311-cp311-manylinux1_x86_64.whl.metadata (6.1 kB)\n",
            "Collecting torchaudio\n",
            "  Using cached torchaudio-2.6.0-cp311-cp311-manylinux1_x86_64.whl.metadata (6.6 kB)\n",
            "Requirement already satisfied: filelock in /usr/local/lib/python3.11/dist-packages (from torch==2.4.0+cu124) (3.18.0)\n",
            "Requirement already satisfied: typing-extensions>=4.8.0 in /usr/local/lib/python3.11/dist-packages (from torch==2.4.0+cu124) (4.13.1)\n",
            "Requirement already satisfied: sympy in /usr/local/lib/python3.11/dist-packages (from torch==2.4.0+cu124) (1.13.1)\n",
            "Requirement already satisfied: networkx in /usr/local/lib/python3.11/dist-packages (from torch==2.4.0+cu124) (3.4.2)\n",
            "Requirement already satisfied: jinja2 in /usr/local/lib/python3.11/dist-packages (from torch==2.4.0+cu124) (3.1.6)\n",
            "Requirement already satisfied: fsspec in /usr/local/lib/python3.11/dist-packages (from torch==2.4.0+cu124) (2025.3.2)\n",
            "Requirement already satisfied: nvidia-cuda-nvrtc-cu12==12.4.99 in /usr/local/lib/python3.11/dist-packages (from torch==2.4.0+cu124) (12.4.99)\n",
            "Requirement already satisfied: nvidia-cuda-runtime-cu12==12.4.99 in /usr/local/lib/python3.11/dist-packages (from torch==2.4.0+cu124) (12.4.99)\n",
            "Requirement already satisfied: nvidia-cuda-cupti-cu12==12.4.99 in /usr/local/lib/python3.11/dist-packages (from torch==2.4.0+cu124) (12.4.99)\n",
            "Requirement already satisfied: nvidia-cudnn-cu12==9.1.0.70 in /usr/local/lib/python3.11/dist-packages (from torch==2.4.0+cu124) (9.1.0.70)\n",
            "Requirement already satisfied: nvidia-cublas-cu12==12.4.2.65 in /usr/local/lib/python3.11/dist-packages (from torch==2.4.0+cu124) (12.4.2.65)\n",
            "Requirement already satisfied: nvidia-cufft-cu12==11.2.0.44 in /usr/local/lib/python3.11/dist-packages (from torch==2.4.0+cu124) (11.2.0.44)\n",
            "Requirement already satisfied: nvidia-curand-cu12==10.3.5.119 in /usr/local/lib/python3.11/dist-packages (from torch==2.4.0+cu124) (10.3.5.119)\n",
            "Requirement already satisfied: nvidia-cusolver-cu12==11.6.0.99 in /usr/local/lib/python3.11/dist-packages (from torch==2.4.0+cu124) (11.6.0.99)\n",
            "Requirement already satisfied: nvidia-cusparse-cu12==12.3.0.142 in /usr/local/lib/python3.11/dist-packages (from torch==2.4.0+cu124) (12.3.0.142)\n",
            "Requirement already satisfied: nvidia-nccl-cu12==2.20.5 in /usr/local/lib/python3.11/dist-packages (from torch==2.4.0+cu124) (2.20.5)\n",
            "Requirement already satisfied: nvidia-nvtx-cu12==12.4.99 in /usr/local/lib/python3.11/dist-packages (from torch==2.4.0+cu124) (12.4.99)\n",
            "Requirement already satisfied: nvidia-nvjitlink-cu12==12.4.99 in /usr/local/lib/python3.11/dist-packages (from torch==2.4.0+cu124) (12.4.99)\n",
            "Requirement already satisfied: triton==3.0.0 in /usr/local/lib/python3.11/dist-packages (from torch==2.4.0+cu124) (3.0.0)\n",
            "Requirement already satisfied: numpy in /usr/local/lib/python3.11/dist-packages (from torchvision) (2.0.2)\n",
            "INFO: pip is looking at multiple versions of torchvision to determine which version is compatible with other requirements. This could take a while.\n",
            "Collecting torchvision\n",
            "  Using cached torchvision-0.20.1-cp311-cp311-manylinux1_x86_64.whl.metadata (6.1 kB)\n",
            "  Using cached torchvision-0.20.0-cp311-cp311-manylinux1_x86_64.whl.metadata (6.1 kB)\n",
            "  Using cached torchvision-0.19.1-cp311-cp311-manylinux1_x86_64.whl.metadata (6.0 kB)\n",
            "  Using cached torchvision-0.19.0-cp311-cp311-manylinux1_x86_64.whl.metadata (6.0 kB)\n",
            "Requirement already satisfied: pillow!=8.3.*,>=5.3.0 in /usr/local/lib/python3.11/dist-packages (from torchvision) (11.1.0)\n",
            "INFO: pip is looking at multiple versions of torchaudio to determine which version is compatible with other requirements. This could take a while.\n",
            "Collecting torchaudio\n",
            "  Using cached torchaudio-2.5.1-cp311-cp311-manylinux1_x86_64.whl.metadata (6.4 kB)\n",
            "  Using cached torchaudio-2.5.0-cp311-cp311-manylinux1_x86_64.whl.metadata (6.4 kB)\n",
            "  Using cached torchaudio-2.4.1-cp311-cp311-manylinux1_x86_64.whl.metadata (6.4 kB)\n",
            "  Using cached torchaudio-2.4.0-cp311-cp311-manylinux1_x86_64.whl.metadata (6.4 kB)\n",
            "Requirement already satisfied: MarkupSafe>=2.0 in /usr/local/lib/python3.11/dist-packages (from jinja2->torch==2.4.0+cu124) (3.0.2)\n",
            "Requirement already satisfied: mpmath<1.4,>=1.1.0 in /usr/local/lib/python3.11/dist-packages (from sympy->torch==2.4.0+cu124) (1.3.0)\n",
            "Using cached torchvision-0.19.0-cp311-cp311-manylinux1_x86_64.whl (7.0 MB)\n",
            "Using cached torchaudio-2.4.0-cp311-cp311-manylinux1_x86_64.whl (3.4 MB)\n",
            "Installing collected packages: torch, torchvision, torchaudio\n",
            "Successfully installed torch-2.4.0+cu124 torchaudio-2.4.0 torchvision-0.19.0\n"
          ]
        },
        {
          "output_type": "display_data",
          "data": {
            "application/vnd.colab-display-data+json": {
              "pip_warning": {
                "packages": [
                  "torch",
                  "torchgen"
                ]
              },
              "id": "22b8f88954b24630ac0378f21f94682f"
            }
          },
          "metadata": {}
        },
        {
          "output_type": "stream",
          "name": "stdout",
          "text": [
            "Looking in links: https://pytorch-geometric.com/whl/torch-2.4.0%2Bcu124.html\n",
            "Collecting torch-cluster\n",
            "  Using cached https://data.pyg.org/whl/torch-2.4.0%2Bcu124/torch_cluster-1.6.3%2Bpt24cu124-cp311-cp311-linux_x86_64.whl (3.4 MB)\n",
            "Collecting torch-geometric\n",
            "  Using cached torch_geometric-2.6.1-py3-none-any.whl.metadata (63 kB)\n",
            "Collecting torch-scatter\n",
            "  Using cached https://data.pyg.org/whl/torch-2.4.0%2Bcu124/torch_scatter-2.1.2%2Bpt24cu124-cp311-cp311-linux_x86_64.whl (10.7 MB)\n",
            "Requirement already satisfied: scipy in /usr/local/lib/python3.11/dist-packages (from torch-cluster) (1.14.1)\n",
            "Requirement already satisfied: aiohttp in /usr/local/lib/python3.11/dist-packages (from torch-geometric) (3.11.15)\n",
            "Requirement already satisfied: fsspec in /usr/local/lib/python3.11/dist-packages (from torch-geometric) (2025.3.2)\n",
            "Requirement already satisfied: jinja2 in /usr/local/lib/python3.11/dist-packages (from torch-geometric) (3.1.6)\n",
            "Requirement already satisfied: numpy in /usr/local/lib/python3.11/dist-packages (from torch-geometric) (2.0.2)\n",
            "Requirement already satisfied: psutil>=5.8.0 in /usr/local/lib/python3.11/dist-packages (from torch-geometric) (5.9.5)\n",
            "Requirement already satisfied: pyparsing in /usr/local/lib/python3.11/dist-packages (from torch-geometric) (3.2.3)\n",
            "Requirement already satisfied: requests in /usr/local/lib/python3.11/dist-packages (from torch-geometric) (2.32.3)\n",
            "Requirement already satisfied: tqdm in /usr/local/lib/python3.11/dist-packages (from torch-geometric) (4.67.1)\n",
            "Requirement already satisfied: aiohappyeyeballs>=2.3.0 in /usr/local/lib/python3.11/dist-packages (from aiohttp->torch-geometric) (2.6.1)\n",
            "Requirement already satisfied: aiosignal>=1.1.2 in /usr/local/lib/python3.11/dist-packages (from aiohttp->torch-geometric) (1.3.2)\n",
            "Requirement already satisfied: attrs>=17.3.0 in /usr/local/lib/python3.11/dist-packages (from aiohttp->torch-geometric) (25.3.0)\n",
            "Requirement already satisfied: frozenlist>=1.1.1 in /usr/local/lib/python3.11/dist-packages (from aiohttp->torch-geometric) (1.5.0)\n",
            "Requirement already satisfied: multidict<7.0,>=4.5 in /usr/local/lib/python3.11/dist-packages (from aiohttp->torch-geometric) (6.2.0)\n",
            "Requirement already satisfied: propcache>=0.2.0 in /usr/local/lib/python3.11/dist-packages (from aiohttp->torch-geometric) (0.3.1)\n",
            "Requirement already satisfied: yarl<2.0,>=1.17.0 in /usr/local/lib/python3.11/dist-packages (from aiohttp->torch-geometric) (1.18.3)\n",
            "Requirement already satisfied: MarkupSafe>=2.0 in /usr/local/lib/python3.11/dist-packages (from jinja2->torch-geometric) (3.0.2)\n",
            "Requirement already satisfied: charset-normalizer<4,>=2 in /usr/local/lib/python3.11/dist-packages (from requests->torch-geometric) (3.4.1)\n",
            "Requirement already satisfied: idna<4,>=2.5 in /usr/local/lib/python3.11/dist-packages (from requests->torch-geometric) (3.10)\n",
            "Requirement already satisfied: urllib3<3,>=1.21.1 in /usr/local/lib/python3.11/dist-packages (from requests->torch-geometric) (2.3.0)\n",
            "Requirement already satisfied: certifi>=2017.4.17 in /usr/local/lib/python3.11/dist-packages (from requests->torch-geometric) (2025.1.31)\n",
            "Using cached torch_geometric-2.6.1-py3-none-any.whl (1.1 MB)\n",
            "Installing collected packages: torch-scatter, torch-cluster, torch-geometric\n",
            "Successfully installed torch-cluster-1.6.3+pt24cu124 torch-geometric-2.6.1 torch-scatter-2.1.2+pt24cu124\n",
            "Requirement already satisfied: e3nn in /usr/local/lib/python3.11/dist-packages (0.5.6)\n",
            "Requirement already satisfied: sympy in /usr/local/lib/python3.11/dist-packages (from e3nn) (1.13.1)\n",
            "Requirement already satisfied: scipy in /usr/local/lib/python3.11/dist-packages (from e3nn) (1.14.1)\n",
            "Requirement already satisfied: torch>=1.8.0 in /usr/local/lib/python3.11/dist-packages (from e3nn) (2.4.0+cu124)\n",
            "Requirement already satisfied: opt_einsum_fx>=0.1.4 in /usr/local/lib/python3.11/dist-packages (from e3nn) (0.1.4)\n",
            "Requirement already satisfied: opt-einsum in /usr/local/lib/python3.11/dist-packages (from opt_einsum_fx>=0.1.4->e3nn) (3.4.0)\n",
            "Requirement already satisfied: packaging in /usr/local/lib/python3.11/dist-packages (from opt_einsum_fx>=0.1.4->e3nn) (24.2)\n",
            "Requirement already satisfied: filelock in /usr/local/lib/python3.11/dist-packages (from torch>=1.8.0->e3nn) (3.18.0)\n",
            "Requirement already satisfied: typing-extensions>=4.8.0 in /usr/local/lib/python3.11/dist-packages (from torch>=1.8.0->e3nn) (4.13.1)\n",
            "Requirement already satisfied: networkx in /usr/local/lib/python3.11/dist-packages (from torch>=1.8.0->e3nn) (3.4.2)\n",
            "Requirement already satisfied: jinja2 in /usr/local/lib/python3.11/dist-packages (from torch>=1.8.0->e3nn) (3.1.6)\n",
            "Requirement already satisfied: fsspec in /usr/local/lib/python3.11/dist-packages (from torch>=1.8.0->e3nn) (2025.3.2)\n",
            "Requirement already satisfied: nvidia-cuda-nvrtc-cu12==12.4.99 in /usr/local/lib/python3.11/dist-packages (from torch>=1.8.0->e3nn) (12.4.99)\n",
            "Requirement already satisfied: nvidia-cuda-runtime-cu12==12.4.99 in /usr/local/lib/python3.11/dist-packages (from torch>=1.8.0->e3nn) (12.4.99)\n",
            "Requirement already satisfied: nvidia-cuda-cupti-cu12==12.4.99 in /usr/local/lib/python3.11/dist-packages (from torch>=1.8.0->e3nn) (12.4.99)\n",
            "Requirement already satisfied: nvidia-cudnn-cu12==9.1.0.70 in /usr/local/lib/python3.11/dist-packages (from torch>=1.8.0->e3nn) (9.1.0.70)\n",
            "Requirement already satisfied: nvidia-cublas-cu12==12.4.2.65 in /usr/local/lib/python3.11/dist-packages (from torch>=1.8.0->e3nn) (12.4.2.65)\n",
            "Requirement already satisfied: nvidia-cufft-cu12==11.2.0.44 in /usr/local/lib/python3.11/dist-packages (from torch>=1.8.0->e3nn) (11.2.0.44)\n",
            "Requirement already satisfied: nvidia-curand-cu12==10.3.5.119 in /usr/local/lib/python3.11/dist-packages (from torch>=1.8.0->e3nn) (10.3.5.119)\n",
            "Requirement already satisfied: nvidia-cusolver-cu12==11.6.0.99 in /usr/local/lib/python3.11/dist-packages (from torch>=1.8.0->e3nn) (11.6.0.99)\n",
            "Requirement already satisfied: nvidia-cusparse-cu12==12.3.0.142 in /usr/local/lib/python3.11/dist-packages (from torch>=1.8.0->e3nn) (12.3.0.142)\n",
            "Requirement already satisfied: nvidia-nccl-cu12==2.20.5 in /usr/local/lib/python3.11/dist-packages (from torch>=1.8.0->e3nn) (2.20.5)\n",
            "Requirement already satisfied: nvidia-nvtx-cu12==12.4.99 in /usr/local/lib/python3.11/dist-packages (from torch>=1.8.0->e3nn) (12.4.99)\n",
            "Requirement already satisfied: nvidia-nvjitlink-cu12==12.4.99 in /usr/local/lib/python3.11/dist-packages (from torch>=1.8.0->e3nn) (12.4.99)\n",
            "Requirement already satisfied: triton==3.0.0 in /usr/local/lib/python3.11/dist-packages (from torch>=1.8.0->e3nn) (3.0.0)\n",
            "Requirement already satisfied: numpy<2.3,>=1.23.5 in /usr/local/lib/python3.11/dist-packages (from scipy->e3nn) (2.0.2)\n",
            "Requirement already satisfied: mpmath<1.4,>=1.1.0 in /usr/local/lib/python3.11/dist-packages (from sympy->e3nn) (1.3.0)\n",
            "Requirement already satisfied: MarkupSafe>=2.0 in /usr/local/lib/python3.11/dist-packages (from jinja2->torch>=1.8.0->e3nn) (3.0.2)\n",
            "Requirement already satisfied: rdkit in /usr/local/lib/python3.11/dist-packages (2024.9.6)\n",
            "Requirement already satisfied: numpy in /usr/local/lib/python3.11/dist-packages (from rdkit) (2.0.2)\n",
            "Requirement already satisfied: Pillow in /usr/local/lib/python3.11/dist-packages (from rdkit) (11.1.0)\n",
            "Requirement already satisfied: mdanalysis in /usr/local/lib/python3.11/dist-packages (2.9.0)\n",
            "Requirement already satisfied: numpy>=1.23.2 in /usr/local/lib/python3.11/dist-packages (from mdanalysis) (2.0.2)\n",
            "Requirement already satisfied: GridDataFormats>=0.4.0 in /usr/local/lib/python3.11/dist-packages (from mdanalysis) (1.0.2)\n",
            "Requirement already satisfied: mmtf-python>=1.0.0 in /usr/local/lib/python3.11/dist-packages (from mdanalysis) (1.1.3)\n",
            "Requirement already satisfied: joblib>=0.12 in /usr/local/lib/python3.11/dist-packages (from mdanalysis) (1.4.2)\n",
            "Requirement already satisfied: scipy>=1.5.0 in /usr/local/lib/python3.11/dist-packages (from mdanalysis) (1.14.1)\n",
            "Requirement already satisfied: matplotlib>=1.5.1 in /usr/local/lib/python3.11/dist-packages (from mdanalysis) (3.10.0)\n",
            "Requirement already satisfied: tqdm>=4.43.0 in /usr/local/lib/python3.11/dist-packages (from mdanalysis) (4.67.1)\n",
            "Requirement already satisfied: threadpoolctl in /usr/local/lib/python3.11/dist-packages (from mdanalysis) (3.6.0)\n",
            "Requirement already satisfied: packaging in /usr/local/lib/python3.11/dist-packages (from mdanalysis) (24.2)\n",
            "Requirement already satisfied: filelock in /usr/local/lib/python3.11/dist-packages (from mdanalysis) (3.18.0)\n",
            "Requirement already satisfied: mda-xdrlib in /usr/local/lib/python3.11/dist-packages (from mdanalysis) (0.2.0)\n",
            "Requirement already satisfied: mrcfile in /usr/local/lib/python3.11/dist-packages (from GridDataFormats>=0.4.0->mdanalysis) (1.5.4)\n",
            "Requirement already satisfied: contourpy>=1.0.1 in /usr/local/lib/python3.11/dist-packages (from matplotlib>=1.5.1->mdanalysis) (1.3.1)\n",
            "Requirement already satisfied: cycler>=0.10 in /usr/local/lib/python3.11/dist-packages (from matplotlib>=1.5.1->mdanalysis) (0.12.1)\n",
            "Requirement already satisfied: fonttools>=4.22.0 in /usr/local/lib/python3.11/dist-packages (from matplotlib>=1.5.1->mdanalysis) (4.57.0)\n",
            "Requirement already satisfied: kiwisolver>=1.3.1 in /usr/local/lib/python3.11/dist-packages (from matplotlib>=1.5.1->mdanalysis) (1.4.8)\n",
            "Requirement already satisfied: pillow>=8 in /usr/local/lib/python3.11/dist-packages (from matplotlib>=1.5.1->mdanalysis) (11.1.0)\n",
            "Requirement already satisfied: pyparsing>=2.3.1 in /usr/local/lib/python3.11/dist-packages (from matplotlib>=1.5.1->mdanalysis) (3.2.3)\n",
            "Requirement already satisfied: python-dateutil>=2.7 in /usr/local/lib/python3.11/dist-packages (from matplotlib>=1.5.1->mdanalysis) (2.8.2)\n",
            "Requirement already satisfied: msgpack>=1.0.0 in /usr/local/lib/python3.11/dist-packages (from mmtf-python>=1.0.0->mdanalysis) (1.1.0)\n",
            "Requirement already satisfied: six>=1.5 in /usr/local/lib/python3.11/dist-packages (from python-dateutil>=2.7->matplotlib>=1.5.1->mdanalysis) (1.17.0)\n",
            "Requirement already satisfied: py3Dmol in /usr/local/lib/python3.11/dist-packages (2.4.2)\n",
            "--2025-04-10 12:39:48--  https://folk.ntnu.no/courtade/GeqShift_models/_20240823_checkpoint_epoch-20_13C_nbr-confs-100.pkl\n",
            "Resolving folk.ntnu.no (folk.ntnu.no)... 129.241.56.95, 2001:700:300:3::95\n",
            "Connecting to folk.ntnu.no (folk.ntnu.no)|129.241.56.95|:443... connected.\n",
            "HTTP request sent, awaiting response... 308 Permanent Redirect\n",
            "Location: https://courtade.folk.ntnu.no/GeqShift_models/_20240823_checkpoint_epoch-20_13C_nbr-confs-100.pkl [following]\n",
            "--2025-04-10 12:39:48--  https://courtade.folk.ntnu.no/GeqShift_models/_20240823_checkpoint_epoch-20_13C_nbr-confs-100.pkl\n",
            "Resolving courtade.folk.ntnu.no (courtade.folk.ntnu.no)... 129.241.56.95, 2001:700:300:3::95\n",
            "Connecting to courtade.folk.ntnu.no (courtade.folk.ntnu.no)|129.241.56.95|:443... connected.\n",
            "HTTP request sent, awaiting response... 200 OK\n",
            "Length: 209908126 (200M)\n",
            "Saving to: ‘_20240823_checkpoint_epoch-20_13C_nbr-confs-100.pkl’\n",
            "\n",
            "_20240823_checkpoin 100%[===================>] 200.18M  74.7MB/s    in 2.7s    \n",
            "\n",
            "2025-04-10 12:39:51 (74.7 MB/s) - ‘_20240823_checkpoint_epoch-20_13C_nbr-confs-100.pkl’ saved [209908126/209908126]\n",
            "\n",
            "--2025-04-10 12:39:51--  https://folk.ntnu.no/courtade/GeqShift_models/_20250410_checkpoint_epoch-7_1H_nbr-confs-100.pkl\n",
            "Resolving folk.ntnu.no (folk.ntnu.no)... 129.241.56.95, 2001:700:300:3::95\n",
            "Connecting to folk.ntnu.no (folk.ntnu.no)|129.241.56.95|:443... connected.\n",
            "HTTP request sent, awaiting response... 308 Permanent Redirect\n",
            "Location: https://courtade.folk.ntnu.no/GeqShift_models/_20250410_checkpoint_epoch-7_1H_nbr-confs-100.pkl [following]\n",
            "--2025-04-10 12:39:51--  https://courtade.folk.ntnu.no/GeqShift_models/_20250410_checkpoint_epoch-7_1H_nbr-confs-100.pkl\n",
            "Resolving courtade.folk.ntnu.no (courtade.folk.ntnu.no)... 129.241.56.95, 2001:700:300:3::95\n",
            "Connecting to courtade.folk.ntnu.no (courtade.folk.ntnu.no)|129.241.56.95|:443... connected.\n",
            "HTTP request sent, awaiting response... 200 OK\n",
            "Length: 209907634 (200M)\n",
            "Saving to: ‘_20250410_checkpoint_epoch-7_1H_nbr-confs-100.pkl’\n",
            "\n",
            "_20250410_checkpoin 100%[===================>] 200.18M  80.0MB/s    in 2.5s    \n",
            "\n",
            "2025-04-10 12:39:54 (80.0 MB/s) - ‘_20250410_checkpoint_epoch-7_1H_nbr-confs-100.pkl’ saved [209907634/209907634]\n",
            "\n"
          ]
        }
      ],
      "source": [
        "#@title Install dependencies\n",
        "import torch\n",
        "if \"2.6.0\" in torch.__version__:\n",
        "  !pip uninstall torch torch-cluster torch-geometric torch-scatter torchaudio torchvision -y\n",
        "  !pip install torch==2.4.0+cu124 torchvision torchaudio -f https://download.pytorch.org/whl/cu124/torch/\n",
        "  import torch\n",
        "\n",
        "torch_url = \"https://pytorch-geometric.com/whl/torch-{}.html\".format(torch.__version__).replace('+', '%2B')\n",
        "!pip install torch-cluster torch-geometric torch-scatter -f $torch_url\n",
        "!pip install e3nn\n",
        "!pip install rdkit\n",
        "!pip install mdanalysis\n",
        "!pip install py3Dmol\n",
        "\n",
        "if not os.path.exists(\"GeqShift\"):\n",
        "  !git clone https://github.com/gcourtade/GeqShift.git\n",
        "\n",
        "checkpoint_13C = \"_20240823_checkpoint_epoch-20_13C_nbr-confs-100.pkl\"\n",
        "if not os.path.exists(checkpoint_13C):\n",
        "  checkpoint_url = \"https://folk.ntnu.no/courtade/GeqShift_models/\" + checkpoint_13C\n",
        "  !wget $checkpoint_url\n",
        "\n",
        "checkpoint_1H = \"_20250410_checkpoint_epoch-7_1H_nbr-confs-100.pkl\"\n",
        "if not os.path.exists(checkpoint_1H):\n",
        "  checkpoint_url = \"https://folk.ntnu.no/courtade/GeqShift_models/\" + checkpoint_1H\n",
        "  !wget $checkpoint_url\n"
      ]
    },
    {
      "cell_type": "code",
      "source": [
        "#@title Run prediction\n",
        "!python GeqShift/predict_gpu.py --smiles_list \"$query_smiles\" --mol_name \"$jobname\" --checkpoint_path_13C $checkpoint_13C --checkpoint_path_1H $checkpoint_1H --nbr_confs $num_conformations"
      ],
      "metadata": {
        "colab": {
          "base_uri": "https://localhost:8080/"
        },
        "id": "ay1dTCibaUkw",
        "outputId": "b3919c0b-cf09-4994-ae30-5dfe94fa4d46"
      },
      "execution_count": 5,
      "outputs": [
        {
          "output_type": "stream",
          "name": "stdout",
          "text": [
            "/content/GeqShift/model/norms.py:164: FutureWarning: `torch.cuda.amp.autocast(args...)` is deprecated. Please use `torch.amp.autocast('cuda', args...)` instead.\n",
            "  @torch.cuda.amp.autocast(enabled=False)\n",
            "{0: 0.0, 1: 0.0, 2: 0.0, 3: 0.0, 4: 0.0, 5: 0.0, }\n",
            "{0: [0.0,0], 1: [0.0,0], 2: [0.0,0], 3: [0.0,0], 4: [0.0,0], 5: [0.0,0], }\n",
            "Loaded checkpoint from _20240823_checkpoint_epoch-20_13C_nbr-confs-100.pkl\n",
            "Loaded checkpoint from _20250410_checkpoint_epoch-7_1H_nbr-confs-100.pkl\n",
            "Predict 13C chemical shifts ...\n",
            "Predict 1H chemical shifts ...\n",
            "Predictions saved to predict//bDGlc_predictions_13C.pkl\n",
            "Predictions saved to predict//bDGlc_predictions_1H.pkl\n",
            "[12:40:19] Molecule does not have explicit Hs. Consider calling AddHs()\n",
            "[12:40:19] Molecule does not have explicit Hs. Consider calling AddHs()\n",
            "Coordinates saved to predict//bDGlc.pdb\n",
            "Coordinates with shifts in Bfactor col saved to predict//bDGlc_13C_shifts.pdb\n",
            "Coordinates with shifts in Bfactor col saved to predict//bDGlc_1H_shifts.pdb\n",
            "Predicted chemical shifts:\n",
            "13C_idx 13C_CS 1H_CS\n",
            "0 61.84 3.81\n",
            "1 75.22 3.60\n",
            "2 70.69 3.42\n",
            "3 75.69 3.58\n",
            "4 74.22 3.35\n",
            "5 95.42 4.85\n"
          ]
        }
      ]
    },
    {
      "cell_type": "code",
      "source": [
        "#@title Display 3D structure with <sup>13</sup>C chemical shifts\n",
        "\n",
        "import py3Dmol\n",
        "import glob\n",
        "\n",
        "def parse_pdb(pdb_file):\n",
        "    atoms = []\n",
        "    with open(pdb_file, 'r') as file:\n",
        "        for line in file:\n",
        "            if line.startswith(\"HETATM\"):\n",
        "                # Extract atom name, coordinates, and B-factor\n",
        "                atom_name = line[12:16].strip()\n",
        "                x = float(line[30:38].strip())\n",
        "                y = float(line[38:46].strip())\n",
        "                z = float(line[46:54].strip())\n",
        "                bfactor = float(line[60:66].strip())\n",
        "                atoms.append((atom_name, x, y, z, bfactor))\n",
        "    return atoms\n",
        "\n",
        "pdb_filename = f\"/content/predict/{jobname}_13C_shifts.pdb\"\n",
        "pdb_file = glob.glob(pdb_filename)\n",
        "atoms = parse_pdb(pdb_filename)\n",
        "\n",
        "view = py3Dmol.view(js='https://3dmol.org/build/3Dmol.js',)\n",
        "view.addModel(open(pdb_file[0],'r').read(),'pdb')\n",
        "\n",
        "view.setStyle({'stick': {}})\n",
        "\n",
        "for atom_name, x, y, z, bfactor in atoms:\n",
        "    if bfactor != 0:\n",
        "        label_content = f\"{bfactor:.2f}\"\n",
        "        view.addLabel(label_content, {'position': {'x': x, 'y': y, 'z': z}, 'fontSize': 12})\n",
        "\n",
        "view.zoomTo()\n",
        "\n",
        "view.show()\n"
      ],
      "metadata": {
        "colab": {
          "base_uri": "https://localhost:8080/",
          "height": 497
        },
        "id": "7apVDqZQE-wm",
        "outputId": "f7cec6df-35ae-456c-c44c-c5405d262f72"
      },
      "execution_count": 6,
      "outputs": [
        {
          "output_type": "display_data",
          "data": {
            "application/3dmoljs_load.v0": "<div id=\"3dmolviewer_17442889011536543\"  style=\"position: relative; width: 640px; height: 480px;\">\n        <p id=\"3dmolwarning_17442889011536543\" style=\"background-color:#ffcccc;color:black\">3Dmol.js failed to load for some reason.  Please check your browser console for error messages.<br></p>\n        </div>\n<script>\n\nvar loadScriptAsync = function(uri){\n  return new Promise((resolve, reject) => {\n    //this is to ignore the existence of requirejs amd\n    var savedexports, savedmodule;\n    if (typeof exports !== 'undefined') savedexports = exports;\n    else exports = {}\n    if (typeof module !== 'undefined') savedmodule = module;\n    else module = {}\n\n    var tag = document.createElement('script');\n    tag.src = uri;\n    tag.async = true;\n    tag.onload = () => {\n        exports = savedexports;\n        module = savedmodule;\n        resolve();\n    };\n  var firstScriptTag = document.getElementsByTagName('script')[0];\n  firstScriptTag.parentNode.insertBefore(tag, firstScriptTag);\n});\n};\n\nif(typeof $3Dmolpromise === 'undefined') {\n$3Dmolpromise = null;\n  $3Dmolpromise = loadScriptAsync('https://3dmol.org/build/3Dmol.js');\n}\n\nvar viewer_17442889011536543 = null;\nvar warn = document.getElementById(\"3dmolwarning_17442889011536543\");\nif(warn) {\n    warn.parentNode.removeChild(warn);\n}\n$3Dmolpromise.then(function() {\nviewer_17442889011536543 = $3Dmol.createViewer(document.getElementById(\"3dmolviewer_17442889011536543\"),{backgroundColor:\"white\"});\nviewer_17442889011536543.zoomTo();\n\tviewer_17442889011536543.addModel(\"HEADER    \\nTITLE     MDANALYSIS FRAMES FROM 0, STEP 1: Created by PDBWriter\\nCRYST1    1.000    1.000    1.000  90.00  90.00  90.00 P 1           1\\nREMARK     285 UNITARY VALUES FOR THE UNIT CELL AUTOMATICALLY SET\\nREMARK     285 BY MDANALYSIS PDBWRITER BECAUSE UNIT CELL INFORMATION\\nREMARK     285 WAS MISSING.\\nREMARK     285 PROTEIN DATA BANK CONVENTIONS REQUIRE THAT\\nREMARK     285 CRYST1 RECORD IS INCLUDED, BUT THE VALUES ON\\nREMARK     285 THIS RECORD ARE MEANINGLESS.\\nMODEL        1\\nHETATM    1  C1  UNL X   1      -2.327  -1.224  -0.030  1.00 61.84      SYST C  \\nHETATM    2  C2  UNL X   1      -0.928  -0.682   0.183  1.00 75.22      SYST C  \\nHETATM    3  C3  UNL X   1      -0.911   0.824  -0.005  1.00 70.69      SYST C  \\nHETATM    4  C4  UNL X   1       0.495   1.358   0.182  1.00 75.69      SYST C  \\nHETATM    5  C5  UNL X   1       1.473   0.595  -0.686  1.00 74.22      SYST C  \\nHETATM    6  C6  UNL X   1       1.328  -0.901  -0.453  1.00 95.42      SYST C  \\nHETATM    7  O1  UNL X   1      -0.015  -1.304  -0.727  1.00  0.00      SYST O  \\nHETATM    8  O2  UNL X   1       1.718  -1.257   0.864  1.00  0.00      SYST O  \\nHETATM    9  O3  UNL X   1       2.802   1.017  -0.425  1.00  0.00      SYST O  \\nHETATM   10  O4  UNL X   1       0.523   2.735  -0.170  1.00  0.00      SYST O  \\nHETATM   11  O5  UNL X   1      -1.789   1.433   0.929  1.00  0.00      SYST O  \\nHETATM   12  O6  UNL X   1      -2.369  -2.594   0.337  1.00  0.00      SYST O  \\nENDMDL\\nCONECT    1    2   12\\nCONECT    2    1    3    7\\nCONECT    3    2    4   11\\nCONECT    4    3    5   10\\nCONECT    5    4    6    9\\nCONECT    6    5    7    8\\nCONECT    7    2    6\\nCONECT    8    6\\nCONECT    9    5\\nCONECT   10    4\\nCONECT   11    3\\nCONECT   12    1\\nEND\\n\",\"pdb\");\n\tviewer_17442889011536543.setStyle({\"stick\": {}});\n\tviewer_17442889011536543.addLabel(\"61.84\",{\"position\": {\"x\": -2.327, \"y\": -1.224, \"z\": -0.03}, \"fontSize\": 12});\n\tviewer_17442889011536543.addLabel(\"75.22\",{\"position\": {\"x\": -0.928, \"y\": -0.682, \"z\": 0.183}, \"fontSize\": 12});\n\tviewer_17442889011536543.addLabel(\"70.69\",{\"position\": {\"x\": -0.911, \"y\": 0.824, \"z\": -0.005}, \"fontSize\": 12});\n\tviewer_17442889011536543.addLabel(\"75.69\",{\"position\": {\"x\": 0.495, \"y\": 1.358, \"z\": 0.182}, \"fontSize\": 12});\n\tviewer_17442889011536543.addLabel(\"74.22\",{\"position\": {\"x\": 1.473, \"y\": 0.595, \"z\": -0.686}, \"fontSize\": 12});\n\tviewer_17442889011536543.addLabel(\"95.42\",{\"position\": {\"x\": 1.328, \"y\": -0.901, \"z\": -0.453}, \"fontSize\": 12});\n\tviewer_17442889011536543.zoomTo();\nviewer_17442889011536543.render();\n});\n</script>",
            "text/html": [
              "<div id=\"3dmolviewer_17442889011536543\"  style=\"position: relative; width: 640px; height: 480px;\">\n",
              "        <p id=\"3dmolwarning_17442889011536543\" style=\"background-color:#ffcccc;color:black\">3Dmol.js failed to load for some reason.  Please check your browser console for error messages.<br></p>\n",
              "        </div>\n",
              "<script>\n",
              "\n",
              "var loadScriptAsync = function(uri){\n",
              "  return new Promise((resolve, reject) => {\n",
              "    //this is to ignore the existence of requirejs amd\n",
              "    var savedexports, savedmodule;\n",
              "    if (typeof exports !== 'undefined') savedexports = exports;\n",
              "    else exports = {}\n",
              "    if (typeof module !== 'undefined') savedmodule = module;\n",
              "    else module = {}\n",
              "\n",
              "    var tag = document.createElement('script');\n",
              "    tag.src = uri;\n",
              "    tag.async = true;\n",
              "    tag.onload = () => {\n",
              "        exports = savedexports;\n",
              "        module = savedmodule;\n",
              "        resolve();\n",
              "    };\n",
              "  var firstScriptTag = document.getElementsByTagName('script')[0];\n",
              "  firstScriptTag.parentNode.insertBefore(tag, firstScriptTag);\n",
              "});\n",
              "};\n",
              "\n",
              "if(typeof $3Dmolpromise === 'undefined') {\n",
              "$3Dmolpromise = null;\n",
              "  $3Dmolpromise = loadScriptAsync('https://3dmol.org/build/3Dmol.js');\n",
              "}\n",
              "\n",
              "var viewer_17442889011536543 = null;\n",
              "var warn = document.getElementById(\"3dmolwarning_17442889011536543\");\n",
              "if(warn) {\n",
              "    warn.parentNode.removeChild(warn);\n",
              "}\n",
              "$3Dmolpromise.then(function() {\n",
              "viewer_17442889011536543 = $3Dmol.createViewer(document.getElementById(\"3dmolviewer_17442889011536543\"),{backgroundColor:\"white\"});\n",
              "viewer_17442889011536543.zoomTo();\n",
              "\tviewer_17442889011536543.addModel(\"HEADER    \\nTITLE     MDANALYSIS FRAMES FROM 0, STEP 1: Created by PDBWriter\\nCRYST1    1.000    1.000    1.000  90.00  90.00  90.00 P 1           1\\nREMARK     285 UNITARY VALUES FOR THE UNIT CELL AUTOMATICALLY SET\\nREMARK     285 BY MDANALYSIS PDBWRITER BECAUSE UNIT CELL INFORMATION\\nREMARK     285 WAS MISSING.\\nREMARK     285 PROTEIN DATA BANK CONVENTIONS REQUIRE THAT\\nREMARK     285 CRYST1 RECORD IS INCLUDED, BUT THE VALUES ON\\nREMARK     285 THIS RECORD ARE MEANINGLESS.\\nMODEL        1\\nHETATM    1  C1  UNL X   1      -2.327  -1.224  -0.030  1.00 61.84      SYST C  \\nHETATM    2  C2  UNL X   1      -0.928  -0.682   0.183  1.00 75.22      SYST C  \\nHETATM    3  C3  UNL X   1      -0.911   0.824  -0.005  1.00 70.69      SYST C  \\nHETATM    4  C4  UNL X   1       0.495   1.358   0.182  1.00 75.69      SYST C  \\nHETATM    5  C5  UNL X   1       1.473   0.595  -0.686  1.00 74.22      SYST C  \\nHETATM    6  C6  UNL X   1       1.328  -0.901  -0.453  1.00 95.42      SYST C  \\nHETATM    7  O1  UNL X   1      -0.015  -1.304  -0.727  1.00  0.00      SYST O  \\nHETATM    8  O2  UNL X   1       1.718  -1.257   0.864  1.00  0.00      SYST O  \\nHETATM    9  O3  UNL X   1       2.802   1.017  -0.425  1.00  0.00      SYST O  \\nHETATM   10  O4  UNL X   1       0.523   2.735  -0.170  1.00  0.00      SYST O  \\nHETATM   11  O5  UNL X   1      -1.789   1.433   0.929  1.00  0.00      SYST O  \\nHETATM   12  O6  UNL X   1      -2.369  -2.594   0.337  1.00  0.00      SYST O  \\nENDMDL\\nCONECT    1    2   12\\nCONECT    2    1    3    7\\nCONECT    3    2    4   11\\nCONECT    4    3    5   10\\nCONECT    5    4    6    9\\nCONECT    6    5    7    8\\nCONECT    7    2    6\\nCONECT    8    6\\nCONECT    9    5\\nCONECT   10    4\\nCONECT   11    3\\nCONECT   12    1\\nEND\\n\",\"pdb\");\n",
              "\tviewer_17442889011536543.setStyle({\"stick\": {}});\n",
              "\tviewer_17442889011536543.addLabel(\"61.84\",{\"position\": {\"x\": -2.327, \"y\": -1.224, \"z\": -0.03}, \"fontSize\": 12});\n",
              "\tviewer_17442889011536543.addLabel(\"75.22\",{\"position\": {\"x\": -0.928, \"y\": -0.682, \"z\": 0.183}, \"fontSize\": 12});\n",
              "\tviewer_17442889011536543.addLabel(\"70.69\",{\"position\": {\"x\": -0.911, \"y\": 0.824, \"z\": -0.005}, \"fontSize\": 12});\n",
              "\tviewer_17442889011536543.addLabel(\"75.69\",{\"position\": {\"x\": 0.495, \"y\": 1.358, \"z\": 0.182}, \"fontSize\": 12});\n",
              "\tviewer_17442889011536543.addLabel(\"74.22\",{\"position\": {\"x\": 1.473, \"y\": 0.595, \"z\": -0.686}, \"fontSize\": 12});\n",
              "\tviewer_17442889011536543.addLabel(\"95.42\",{\"position\": {\"x\": 1.328, \"y\": -0.901, \"z\": -0.453}, \"fontSize\": 12});\n",
              "\tviewer_17442889011536543.zoomTo();\n",
              "viewer_17442889011536543.render();\n",
              "});\n",
              "</script>"
            ]
          },
          "metadata": {}
        }
      ]
    },
    {
      "cell_type": "code",
      "source": [
        "#@title Display 3D structure with <sup>1</sup>H chemical shifts\n",
        "\n",
        "pdb_filename = f\"/content/predict/{jobname}_1H_shifts.pdb\"\n",
        "pdb_file = glob.glob(pdb_filename)\n",
        "atoms = parse_pdb(pdb_filename)\n",
        "\n",
        "view = py3Dmol.view(js='https://3dmol.org/build/3Dmol.js',)\n",
        "view.addModel(open(pdb_file[0],'r').read(),'pdb')\n",
        "\n",
        "view.setStyle({'stick': {}})\n",
        "\n",
        "for atom_name, x, y, z, bfactor in atoms:\n",
        "    if bfactor != 0:\n",
        "        label_content = f\"{bfactor:.2f}\"\n",
        "        view.addLabel(label_content, {'position': {'x': x, 'y': y, 'z': z}, 'fontSize': 12})\n",
        "\n",
        "view.zoomTo()\n",
        "\n",
        "view.show()\n"
      ],
      "metadata": {
        "colab": {
          "base_uri": "https://localhost:8080/",
          "height": 497
        },
        "outputId": "e604fea2-e0fd-49ae-a391-38f9ce9227a7",
        "id": "qUZOMigRi03W"
      },
      "execution_count": 7,
      "outputs": [
        {
          "output_type": "display_data",
          "data": {
            "application/3dmoljs_load.v0": "<div id=\"3dmolviewer_17442889108929434\"  style=\"position: relative; width: 640px; height: 480px;\">\n        <p id=\"3dmolwarning_17442889108929434\" style=\"background-color:#ffcccc;color:black\">3Dmol.js failed to load for some reason.  Please check your browser console for error messages.<br></p>\n        </div>\n<script>\n\nvar loadScriptAsync = function(uri){\n  return new Promise((resolve, reject) => {\n    //this is to ignore the existence of requirejs amd\n    var savedexports, savedmodule;\n    if (typeof exports !== 'undefined') savedexports = exports;\n    else exports = {}\n    if (typeof module !== 'undefined') savedmodule = module;\n    else module = {}\n\n    var tag = document.createElement('script');\n    tag.src = uri;\n    tag.async = true;\n    tag.onload = () => {\n        exports = savedexports;\n        module = savedmodule;\n        resolve();\n    };\n  var firstScriptTag = document.getElementsByTagName('script')[0];\n  firstScriptTag.parentNode.insertBefore(tag, firstScriptTag);\n});\n};\n\nif(typeof $3Dmolpromise === 'undefined') {\n$3Dmolpromise = null;\n  $3Dmolpromise = loadScriptAsync('https://3dmol.org/build/3Dmol.js');\n}\n\nvar viewer_17442889108929434 = null;\nvar warn = document.getElementById(\"3dmolwarning_17442889108929434\");\nif(warn) {\n    warn.parentNode.removeChild(warn);\n}\n$3Dmolpromise.then(function() {\nviewer_17442889108929434 = $3Dmol.createViewer(document.getElementById(\"3dmolviewer_17442889108929434\"),{backgroundColor:\"white\"});\nviewer_17442889108929434.zoomTo();\n\tviewer_17442889108929434.addModel(\"HEADER    \\nTITLE     MDANALYSIS FRAMES FROM 0, STEP 1: Created by PDBWriter\\nCRYST1    1.000    1.000    1.000  90.00  90.00  90.00 P 1           1\\nREMARK     285 UNITARY VALUES FOR THE UNIT CELL AUTOMATICALLY SET\\nREMARK     285 BY MDANALYSIS PDBWRITER BECAUSE UNIT CELL INFORMATION\\nREMARK     285 WAS MISSING.\\nREMARK     285 PROTEIN DATA BANK CONVENTIONS REQUIRE THAT\\nREMARK     285 CRYST1 RECORD IS INCLUDED, BUT THE VALUES ON\\nREMARK     285 THIS RECORD ARE MEANINGLESS.\\nMODEL        1\\nHETATM    1  C1  UNL X   1      -2.327  -1.224  -0.030  1.00  3.81      SYST C  \\nHETATM    2  C2  UNL X   1      -0.928  -0.682   0.183  1.00  3.60      SYST C  \\nHETATM    3  C3  UNL X   1      -0.911   0.824  -0.005  1.00  3.42      SYST C  \\nHETATM    4  C4  UNL X   1       0.495   1.358   0.182  1.00  3.58      SYST C  \\nHETATM    5  C5  UNL X   1       1.473   0.595  -0.686  1.00  3.35      SYST C  \\nHETATM    6  C6  UNL X   1       1.328  -0.901  -0.453  1.00  4.85      SYST C  \\nHETATM    7  O1  UNL X   1      -0.015  -1.304  -0.727  1.00  0.00      SYST O  \\nHETATM    8  O2  UNL X   1       1.718  -1.257   0.864  1.00  0.00      SYST O  \\nHETATM    9  O3  UNL X   1       2.802   1.017  -0.425  1.00  0.00      SYST O  \\nHETATM   10  O4  UNL X   1       0.523   2.735  -0.170  1.00  0.00      SYST O  \\nHETATM   11  O5  UNL X   1      -1.789   1.433   0.929  1.00  0.00      SYST O  \\nHETATM   12  O6  UNL X   1      -2.369  -2.594   0.337  1.00  0.00      SYST O  \\nENDMDL\\nCONECT    1    2   12\\nCONECT    2    1    3    7\\nCONECT    3    2    4   11\\nCONECT    4    3    5   10\\nCONECT    5    4    6    9\\nCONECT    6    5    7    8\\nCONECT    7    2    6\\nCONECT    8    6\\nCONECT    9    5\\nCONECT   10    4\\nCONECT   11    3\\nCONECT   12    1\\nEND\\n\",\"pdb\");\n\tviewer_17442889108929434.setStyle({\"stick\": {}});\n\tviewer_17442889108929434.addLabel(\"3.81\",{\"position\": {\"x\": -2.327, \"y\": -1.224, \"z\": -0.03}, \"fontSize\": 12});\n\tviewer_17442889108929434.addLabel(\"3.60\",{\"position\": {\"x\": -0.928, \"y\": -0.682, \"z\": 0.183}, \"fontSize\": 12});\n\tviewer_17442889108929434.addLabel(\"3.42\",{\"position\": {\"x\": -0.911, \"y\": 0.824, \"z\": -0.005}, \"fontSize\": 12});\n\tviewer_17442889108929434.addLabel(\"3.58\",{\"position\": {\"x\": 0.495, \"y\": 1.358, \"z\": 0.182}, \"fontSize\": 12});\n\tviewer_17442889108929434.addLabel(\"3.35\",{\"position\": {\"x\": 1.473, \"y\": 0.595, \"z\": -0.686}, \"fontSize\": 12});\n\tviewer_17442889108929434.addLabel(\"4.85\",{\"position\": {\"x\": 1.328, \"y\": -0.901, \"z\": -0.453}, \"fontSize\": 12});\n\tviewer_17442889108929434.zoomTo();\nviewer_17442889108929434.render();\n});\n</script>",
            "text/html": [
              "<div id=\"3dmolviewer_17442889108929434\"  style=\"position: relative; width: 640px; height: 480px;\">\n",
              "        <p id=\"3dmolwarning_17442889108929434\" style=\"background-color:#ffcccc;color:black\">3Dmol.js failed to load for some reason.  Please check your browser console for error messages.<br></p>\n",
              "        </div>\n",
              "<script>\n",
              "\n",
              "var loadScriptAsync = function(uri){\n",
              "  return new Promise((resolve, reject) => {\n",
              "    //this is to ignore the existence of requirejs amd\n",
              "    var savedexports, savedmodule;\n",
              "    if (typeof exports !== 'undefined') savedexports = exports;\n",
              "    else exports = {}\n",
              "    if (typeof module !== 'undefined') savedmodule = module;\n",
              "    else module = {}\n",
              "\n",
              "    var tag = document.createElement('script');\n",
              "    tag.src = uri;\n",
              "    tag.async = true;\n",
              "    tag.onload = () => {\n",
              "        exports = savedexports;\n",
              "        module = savedmodule;\n",
              "        resolve();\n",
              "    };\n",
              "  var firstScriptTag = document.getElementsByTagName('script')[0];\n",
              "  firstScriptTag.parentNode.insertBefore(tag, firstScriptTag);\n",
              "});\n",
              "};\n",
              "\n",
              "if(typeof $3Dmolpromise === 'undefined') {\n",
              "$3Dmolpromise = null;\n",
              "  $3Dmolpromise = loadScriptAsync('https://3dmol.org/build/3Dmol.js');\n",
              "}\n",
              "\n",
              "var viewer_17442889108929434 = null;\n",
              "var warn = document.getElementById(\"3dmolwarning_17442889108929434\");\n",
              "if(warn) {\n",
              "    warn.parentNode.removeChild(warn);\n",
              "}\n",
              "$3Dmolpromise.then(function() {\n",
              "viewer_17442889108929434 = $3Dmol.createViewer(document.getElementById(\"3dmolviewer_17442889108929434\"),{backgroundColor:\"white\"});\n",
              "viewer_17442889108929434.zoomTo();\n",
              "\tviewer_17442889108929434.addModel(\"HEADER    \\nTITLE     MDANALYSIS FRAMES FROM 0, STEP 1: Created by PDBWriter\\nCRYST1    1.000    1.000    1.000  90.00  90.00  90.00 P 1           1\\nREMARK     285 UNITARY VALUES FOR THE UNIT CELL AUTOMATICALLY SET\\nREMARK     285 BY MDANALYSIS PDBWRITER BECAUSE UNIT CELL INFORMATION\\nREMARK     285 WAS MISSING.\\nREMARK     285 PROTEIN DATA BANK CONVENTIONS REQUIRE THAT\\nREMARK     285 CRYST1 RECORD IS INCLUDED, BUT THE VALUES ON\\nREMARK     285 THIS RECORD ARE MEANINGLESS.\\nMODEL        1\\nHETATM    1  C1  UNL X   1      -2.327  -1.224  -0.030  1.00  3.81      SYST C  \\nHETATM    2  C2  UNL X   1      -0.928  -0.682   0.183  1.00  3.60      SYST C  \\nHETATM    3  C3  UNL X   1      -0.911   0.824  -0.005  1.00  3.42      SYST C  \\nHETATM    4  C4  UNL X   1       0.495   1.358   0.182  1.00  3.58      SYST C  \\nHETATM    5  C5  UNL X   1       1.473   0.595  -0.686  1.00  3.35      SYST C  \\nHETATM    6  C6  UNL X   1       1.328  -0.901  -0.453  1.00  4.85      SYST C  \\nHETATM    7  O1  UNL X   1      -0.015  -1.304  -0.727  1.00  0.00      SYST O  \\nHETATM    8  O2  UNL X   1       1.718  -1.257   0.864  1.00  0.00      SYST O  \\nHETATM    9  O3  UNL X   1       2.802   1.017  -0.425  1.00  0.00      SYST O  \\nHETATM   10  O4  UNL X   1       0.523   2.735  -0.170  1.00  0.00      SYST O  \\nHETATM   11  O5  UNL X   1      -1.789   1.433   0.929  1.00  0.00      SYST O  \\nHETATM   12  O6  UNL X   1      -2.369  -2.594   0.337  1.00  0.00      SYST O  \\nENDMDL\\nCONECT    1    2   12\\nCONECT    2    1    3    7\\nCONECT    3    2    4   11\\nCONECT    4    3    5   10\\nCONECT    5    4    6    9\\nCONECT    6    5    7    8\\nCONECT    7    2    6\\nCONECT    8    6\\nCONECT    9    5\\nCONECT   10    4\\nCONECT   11    3\\nCONECT   12    1\\nEND\\n\",\"pdb\");\n",
              "\tviewer_17442889108929434.setStyle({\"stick\": {}});\n",
              "\tviewer_17442889108929434.addLabel(\"3.81\",{\"position\": {\"x\": -2.327, \"y\": -1.224, \"z\": -0.03}, \"fontSize\": 12});\n",
              "\tviewer_17442889108929434.addLabel(\"3.60\",{\"position\": {\"x\": -0.928, \"y\": -0.682, \"z\": 0.183}, \"fontSize\": 12});\n",
              "\tviewer_17442889108929434.addLabel(\"3.42\",{\"position\": {\"x\": -0.911, \"y\": 0.824, \"z\": -0.005}, \"fontSize\": 12});\n",
              "\tviewer_17442889108929434.addLabel(\"3.58\",{\"position\": {\"x\": 0.495, \"y\": 1.358, \"z\": 0.182}, \"fontSize\": 12});\n",
              "\tviewer_17442889108929434.addLabel(\"3.35\",{\"position\": {\"x\": 1.473, \"y\": 0.595, \"z\": -0.686}, \"fontSize\": 12});\n",
              "\tviewer_17442889108929434.addLabel(\"4.85\",{\"position\": {\"x\": 1.328, \"y\": -0.901, \"z\": -0.453}, \"fontSize\": 12});\n",
              "\tviewer_17442889108929434.zoomTo();\n",
              "viewer_17442889108929434.render();\n",
              "});\n",
              "</script>"
            ]
          },
          "metadata": {}
        }
      ]
    },
    {
      "cell_type": "code",
      "source": [
        "#@title Download the results\n",
        "zip_path = f\"/content/{jobname}.zip\"\n",
        "!zip -r  $zip_path /content/predict\n",
        "from google.colab import files\n",
        "files.download(zip_path)"
      ],
      "metadata": {
        "colab": {
          "base_uri": "https://localhost:8080/",
          "height": 121
        },
        "id": "s35L6-8g5RDN",
        "outputId": "93b1ee84-95f9-46f8-9624-14de512efa9d"
      },
      "execution_count": null,
      "outputs": [
        {
          "output_type": "stream",
          "name": "stdout",
          "text": [
            "  adding: content/predict/ (stored 0%)\n",
            "  adding: content/predict/bDGlc_shifts.pdb (deflated 65%)\n",
            "  adding: content/predict/bDGlc_conformations.pickle (deflated 13%)\n",
            "  adding: content/predict/bDGlc_predictions.pkl (deflated 16%)\n",
            "  adding: content/predict/bDGlc_pred_data.pkl (deflated 94%)\n",
            "  adding: content/predict/bDGlc.pdb (deflated 73%)\n"
          ]
        },
        {
          "output_type": "display_data",
          "data": {
            "text/plain": [
              "<IPython.core.display.Javascript object>"
            ],
            "application/javascript": [
              "\n",
              "    async function download(id, filename, size) {\n",
              "      if (!google.colab.kernel.accessAllowed) {\n",
              "        return;\n",
              "      }\n",
              "      const div = document.createElement('div');\n",
              "      const label = document.createElement('label');\n",
              "      label.textContent = `Downloading \"${filename}\": `;\n",
              "      div.appendChild(label);\n",
              "      const progress = document.createElement('progress');\n",
              "      progress.max = size;\n",
              "      div.appendChild(progress);\n",
              "      document.body.appendChild(div);\n",
              "\n",
              "      const buffers = [];\n",
              "      let downloaded = 0;\n",
              "\n",
              "      const channel = await google.colab.kernel.comms.open(id);\n",
              "      // Send a message to notify the kernel that we're ready.\n",
              "      channel.send({})\n",
              "\n",
              "      for await (const message of channel.messages) {\n",
              "        // Send a message to notify the kernel that we're ready.\n",
              "        channel.send({})\n",
              "        if (message.buffers) {\n",
              "          for (const buffer of message.buffers) {\n",
              "            buffers.push(buffer);\n",
              "            downloaded += buffer.byteLength;\n",
              "            progress.value = downloaded;\n",
              "          }\n",
              "        }\n",
              "      }\n",
              "      const blob = new Blob(buffers, {type: 'application/binary'});\n",
              "      const a = document.createElement('a');\n",
              "      a.href = window.URL.createObjectURL(blob);\n",
              "      a.download = filename;\n",
              "      div.appendChild(a);\n",
              "      a.click();\n",
              "      div.remove();\n",
              "    }\n",
              "  "
            ]
          },
          "metadata": {}
        },
        {
          "output_type": "display_data",
          "data": {
            "text/plain": [
              "<IPython.core.display.Javascript object>"
            ],
            "application/javascript": [
              "download(\"download_8dab8922-5fb2-45d3-b05d-3dee1f93c084\", \"bDGlc.zip\", 56372)"
            ]
          },
          "metadata": {}
        }
      ]
    },
    {
      "cell_type": "markdown",
      "source": [
        "The chemical shifts are stored in the B-factor column of the _shifts.pdb file. To visualize chemical shifts on the structure, you can label the atoms by B-factor:\n",
        "1. Open `JOBNAME_shifts.pdb ` on PyMOL\n",
        "2. Type `label all, b` or click `L > b-factor`"
      ],
      "metadata": {
        "id": "2EL0sM65Rd31"
      }
    }
  ]
}