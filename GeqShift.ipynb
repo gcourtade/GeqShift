{
  "nbformat": 4,
  "nbformat_minor": 0,
  "metadata": {
    "colab": {
      "provenance": [],
      "gpuType": "T4",
      "authorship_tag": "ABX9TyOUPJsEz12c1x9yl3YSFBof",
      "include_colab_link": true
    },
    "kernelspec": {
      "name": "python3",
      "display_name": "Python 3"
    },
    "language_info": {
      "name": "python"
    },
    "accelerator": "GPU"
  },
  "cells": [
    {
      "cell_type": "markdown",
      "metadata": {
        "id": "view-in-github",
        "colab_type": "text"
      },
      "source": [
        "<a href=\"https://colab.research.google.com/github/gcourtade/GeqShift/blob/main/GeqShift.ipynb\" target=\"_parent\"><img src=\"https://colab.research.google.com/assets/colab-badge.svg\" alt=\"Open In Colab\"/></a>"
      ]
    },
    {
      "cell_type": "markdown",
      "source": [
        "##GeqShift\n",
        "\n",
        "Easy to use carbohydrate <sup>13</sup>C NMR chemical shift prediction using GeqShift: an E(3) equivariant graph neural network.\n",
        "\n",
        "The original GeqShift code is available at https://github.com/mariabankestad/GeqShift.\n",
        "\n",
        "The dataset of 1H and 13C NMR chemical shifts are available at https://github.com/mariabankestad/GeqShift.\n",
        "\n",
        "Please read and cite the GeqShit paper:\n",
        "[Bånkestad M., Dorst K. M., Widmalm G., Rönnols J. Carbohydrate NMR chemical shift prediction by GeqShift employing E(3) equivariant graph neural networks\n",
        "*RSC Advances*, 2024](https://doi.org/10.1039/D4RA03428G)\n",
        "\n",
        "##### Disclaimer\n",
        "I made this Google Colab notebook for my own use and have no connection with the authors of the GeqShift paper. This notebook was is heavily inspired by and uses code from the [ColabFold](https://colab.research.google.com/github/sokrypton/ColabFold/blob/main/AlphaFold2.ipynb#scrollTo=mbaIO9pWjaN0) notebook. The model was trained using 100 conformations of the carbohydrates in the training set and 20 epochs. I cannot guarantee the correctness of the results generated using this code.\n",
        "\n",
        "--[Gaston Courtade](https://folk.ntnu.no/courtade), 2024-08-24"
      ],
      "metadata": {
        "id": "srfiZcf4EAlm"
      }
    },
    {
      "cell_type": "code",
      "source": [
        "#@title Input carbohydrate SMILES, then hit `Runtime` -> `Run all`\n",
        "import os\n",
        "\n",
        "\n",
        "query_smiles = 'O=C([O-])[C@H]4O[C@@H](O[C@H]1[C@@H](O)[C@H](O)[C@@H](CO)O[C@@H]1O[C@H]3[C@H](O)[C@@H](CO)O[C@@H](O[C@H]2[C@H](O)[C@@H](O)[C@@H](O)O[C@@H]2CO)[C@@H]3O)[C@H](O)[C@@H](O)[C@@H]4O[C@@H]5O[C@H](CO)[C@@H](O)[C@H](O)[C@@H]5O' #@param {type:\"string\"}\n",
        "#@markdown  - Tip: Use [SMILES generator/checker](https://www.cheminfo.org/flavor/malaria/Utilities/SMILES_generator___checker/index.html) to edit SMILES.\n",
        "jobname = 'NS-xanthan' #@param {type:\"string\"}\n",
        "# number of models to use\n",
        "num_conformations = 10 #@param {type: \"integer\"}\n",
        "#@markdown - Specify how many conformations should be generated in the ensemble for chemical shift prediction\n",
        "#@markdown - Tip: Best results are expected with around 100 conformations\n",
        "\n",
        "if os.path.exists(\"predict\"):\n",
        "  !rm -r /content/predict"
      ],
      "metadata": {
        "id": "WCPWHucDBIfu"
      },
      "execution_count": 51,
      "outputs": []
    },
    {
      "cell_type": "code",
      "execution_count": 52,
      "metadata": {
        "colab": {
          "base_uri": "https://localhost:8080/"
        },
        "id": "om6iAKOoZ57W",
        "outputId": "50978c50-bebb-4fda-b668-9cc2d0888454",
        "cellView": "form"
      },
      "outputs": [
        {
          "output_type": "stream",
          "name": "stdout",
          "text": [
            "Looking in links: https://pytorch-geometric.com/whl/torch-2.3.1%2Bcu121.html\n",
            "Requirement already satisfied: torch-cluster in /usr/local/lib/python3.10/dist-packages (1.6.3+pt23cu121)\n",
            "Requirement already satisfied: torch-geometric in /usr/local/lib/python3.10/dist-packages (2.5.3)\n",
            "Requirement already satisfied: torch-scatter in /usr/local/lib/python3.10/dist-packages (2.1.2+pt23cu121)\n",
            "Requirement already satisfied: scipy in /usr/local/lib/python3.10/dist-packages (from torch-cluster) (1.13.1)\n",
            "Requirement already satisfied: tqdm in /usr/local/lib/python3.10/dist-packages (from torch-geometric) (4.66.5)\n",
            "Requirement already satisfied: numpy in /usr/local/lib/python3.10/dist-packages (from torch-geometric) (1.26.4)\n",
            "Requirement already satisfied: fsspec in /usr/local/lib/python3.10/dist-packages (from torch-geometric) (2024.6.1)\n",
            "Requirement already satisfied: jinja2 in /usr/local/lib/python3.10/dist-packages (from torch-geometric) (3.1.4)\n",
            "Requirement already satisfied: aiohttp in /usr/local/lib/python3.10/dist-packages (from torch-geometric) (3.10.5)\n",
            "Requirement already satisfied: requests in /usr/local/lib/python3.10/dist-packages (from torch-geometric) (2.32.3)\n",
            "Requirement already satisfied: pyparsing in /usr/local/lib/python3.10/dist-packages (from torch-geometric) (3.1.2)\n",
            "Requirement already satisfied: scikit-learn in /usr/local/lib/python3.10/dist-packages (from torch-geometric) (1.3.2)\n",
            "Requirement already satisfied: psutil>=5.8.0 in /usr/local/lib/python3.10/dist-packages (from torch-geometric) (5.9.5)\n",
            "Requirement already satisfied: aiohappyeyeballs>=2.3.0 in /usr/local/lib/python3.10/dist-packages (from aiohttp->torch-geometric) (2.4.0)\n",
            "Requirement already satisfied: aiosignal>=1.1.2 in /usr/local/lib/python3.10/dist-packages (from aiohttp->torch-geometric) (1.3.1)\n",
            "Requirement already satisfied: attrs>=17.3.0 in /usr/local/lib/python3.10/dist-packages (from aiohttp->torch-geometric) (24.2.0)\n",
            "Requirement already satisfied: frozenlist>=1.1.1 in /usr/local/lib/python3.10/dist-packages (from aiohttp->torch-geometric) (1.4.1)\n",
            "Requirement already satisfied: multidict<7.0,>=4.5 in /usr/local/lib/python3.10/dist-packages (from aiohttp->torch-geometric) (6.0.5)\n",
            "Requirement already satisfied: yarl<2.0,>=1.0 in /usr/local/lib/python3.10/dist-packages (from aiohttp->torch-geometric) (1.9.4)\n",
            "Requirement already satisfied: async-timeout<5.0,>=4.0 in /usr/local/lib/python3.10/dist-packages (from aiohttp->torch-geometric) (4.0.3)\n",
            "Requirement already satisfied: MarkupSafe>=2.0 in /usr/local/lib/python3.10/dist-packages (from jinja2->torch-geometric) (2.1.5)\n",
            "Requirement already satisfied: charset-normalizer<4,>=2 in /usr/local/lib/python3.10/dist-packages (from requests->torch-geometric) (3.3.2)\n",
            "Requirement already satisfied: idna<4,>=2.5 in /usr/local/lib/python3.10/dist-packages (from requests->torch-geometric) (3.7)\n",
            "Requirement already satisfied: urllib3<3,>=1.21.1 in /usr/local/lib/python3.10/dist-packages (from requests->torch-geometric) (2.0.7)\n",
            "Requirement already satisfied: certifi>=2017.4.17 in /usr/local/lib/python3.10/dist-packages (from requests->torch-geometric) (2024.7.4)\n",
            "Requirement already satisfied: joblib>=1.1.1 in /usr/local/lib/python3.10/dist-packages (from scikit-learn->torch-geometric) (1.4.2)\n",
            "Requirement already satisfied: threadpoolctl>=2.0.0 in /usr/local/lib/python3.10/dist-packages (from scikit-learn->torch-geometric) (3.5.0)\n",
            "Requirement already satisfied: e3nn in /usr/local/lib/python3.10/dist-packages (0.5.1)\n",
            "Requirement already satisfied: sympy in /usr/local/lib/python3.10/dist-packages (from e3nn) (1.13.2)\n",
            "Requirement already satisfied: scipy in /usr/local/lib/python3.10/dist-packages (from e3nn) (1.13.1)\n",
            "Requirement already satisfied: torch>=1.8.0 in /usr/local/lib/python3.10/dist-packages (from e3nn) (2.3.1+cu121)\n",
            "Requirement already satisfied: opt-einsum-fx>=0.1.4 in /usr/local/lib/python3.10/dist-packages (from e3nn) (0.1.4)\n",
            "Requirement already satisfied: opt-einsum in /usr/local/lib/python3.10/dist-packages (from opt-einsum-fx>=0.1.4->e3nn) (3.3.0)\n",
            "Requirement already satisfied: packaging in /usr/local/lib/python3.10/dist-packages (from opt-einsum-fx>=0.1.4->e3nn) (24.1)\n",
            "Requirement already satisfied: filelock in /usr/local/lib/python3.10/dist-packages (from torch>=1.8.0->e3nn) (3.15.4)\n",
            "Requirement already satisfied: typing-extensions>=4.8.0 in /usr/local/lib/python3.10/dist-packages (from torch>=1.8.0->e3nn) (4.12.2)\n",
            "Requirement already satisfied: networkx in /usr/local/lib/python3.10/dist-packages (from torch>=1.8.0->e3nn) (3.3)\n",
            "Requirement already satisfied: jinja2 in /usr/local/lib/python3.10/dist-packages (from torch>=1.8.0->e3nn) (3.1.4)\n",
            "Requirement already satisfied: fsspec in /usr/local/lib/python3.10/dist-packages (from torch>=1.8.0->e3nn) (2024.6.1)\n",
            "Requirement already satisfied: nvidia-cuda-nvrtc-cu12==12.1.105 in /usr/local/lib/python3.10/dist-packages (from torch>=1.8.0->e3nn) (12.1.105)\n",
            "Requirement already satisfied: nvidia-cuda-runtime-cu12==12.1.105 in /usr/local/lib/python3.10/dist-packages (from torch>=1.8.0->e3nn) (12.1.105)\n",
            "Requirement already satisfied: nvidia-cuda-cupti-cu12==12.1.105 in /usr/local/lib/python3.10/dist-packages (from torch>=1.8.0->e3nn) (12.1.105)\n",
            "Requirement already satisfied: nvidia-cudnn-cu12==8.9.2.26 in /usr/local/lib/python3.10/dist-packages (from torch>=1.8.0->e3nn) (8.9.2.26)\n",
            "Requirement already satisfied: nvidia-cublas-cu12==12.1.3.1 in /usr/local/lib/python3.10/dist-packages (from torch>=1.8.0->e3nn) (12.1.3.1)\n",
            "Requirement already satisfied: nvidia-cufft-cu12==11.0.2.54 in /usr/local/lib/python3.10/dist-packages (from torch>=1.8.0->e3nn) (11.0.2.54)\n",
            "Requirement already satisfied: nvidia-curand-cu12==10.3.2.106 in /usr/local/lib/python3.10/dist-packages (from torch>=1.8.0->e3nn) (10.3.2.106)\n",
            "Requirement already satisfied: nvidia-cusolver-cu12==11.4.5.107 in /usr/local/lib/python3.10/dist-packages (from torch>=1.8.0->e3nn) (11.4.5.107)\n",
            "Requirement already satisfied: nvidia-cusparse-cu12==12.1.0.106 in /usr/local/lib/python3.10/dist-packages (from torch>=1.8.0->e3nn) (12.1.0.106)\n",
            "Requirement already satisfied: nvidia-nccl-cu12==2.20.5 in /usr/local/lib/python3.10/dist-packages (from torch>=1.8.0->e3nn) (2.20.5)\n",
            "Requirement already satisfied: nvidia-nvtx-cu12==12.1.105 in /usr/local/lib/python3.10/dist-packages (from torch>=1.8.0->e3nn) (12.1.105)\n",
            "Requirement already satisfied: triton==2.3.1 in /usr/local/lib/python3.10/dist-packages (from torch>=1.8.0->e3nn) (2.3.1)\n",
            "Requirement already satisfied: nvidia-nvjitlink-cu12 in /usr/local/lib/python3.10/dist-packages (from nvidia-cusolver-cu12==11.4.5.107->torch>=1.8.0->e3nn) (12.6.20)\n",
            "Requirement already satisfied: numpy<2.3,>=1.22.4 in /usr/local/lib/python3.10/dist-packages (from scipy->e3nn) (1.26.4)\n",
            "Requirement already satisfied: mpmath<1.4,>=1.1.0 in /usr/local/lib/python3.10/dist-packages (from sympy->e3nn) (1.3.0)\n",
            "Requirement already satisfied: MarkupSafe>=2.0 in /usr/local/lib/python3.10/dist-packages (from jinja2->torch>=1.8.0->e3nn) (2.1.5)\n",
            "Requirement already satisfied: rdkit in /usr/local/lib/python3.10/dist-packages (2024.3.5)\n",
            "Requirement already satisfied: numpy in /usr/local/lib/python3.10/dist-packages (from rdkit) (1.26.4)\n",
            "Requirement already satisfied: Pillow in /usr/local/lib/python3.10/dist-packages (from rdkit) (9.4.0)\n",
            "Requirement already satisfied: mdanalysis in /usr/local/lib/python3.10/dist-packages (2.7.0)\n",
            "Requirement already satisfied: numpy<2.0,>=1.22.3 in /usr/local/lib/python3.10/dist-packages (from mdanalysis) (1.26.4)\n",
            "Requirement already satisfied: GridDataFormats>=0.4.0 in /usr/local/lib/python3.10/dist-packages (from mdanalysis) (1.0.2)\n",
            "Requirement already satisfied: mmtf-python>=1.0.0 in /usr/local/lib/python3.10/dist-packages (from mdanalysis) (1.1.3)\n",
            "Requirement already satisfied: joblib>=0.12 in /usr/local/lib/python3.10/dist-packages (from mdanalysis) (1.4.2)\n",
            "Requirement already satisfied: scipy>=1.5.0 in /usr/local/lib/python3.10/dist-packages (from mdanalysis) (1.13.1)\n",
            "Requirement already satisfied: matplotlib>=1.5.1 in /usr/local/lib/python3.10/dist-packages (from mdanalysis) (3.7.1)\n",
            "Requirement already satisfied: tqdm>=4.43.0 in /usr/local/lib/python3.10/dist-packages (from mdanalysis) (4.66.5)\n",
            "Requirement already satisfied: threadpoolctl in /usr/local/lib/python3.10/dist-packages (from mdanalysis) (3.5.0)\n",
            "Requirement already satisfied: packaging in /usr/local/lib/python3.10/dist-packages (from mdanalysis) (24.1)\n",
            "Requirement already satisfied: fasteners in /usr/local/lib/python3.10/dist-packages (from mdanalysis) (0.19)\n",
            "Requirement already satisfied: mda-xdrlib in /usr/local/lib/python3.10/dist-packages (from mdanalysis) (0.2.0)\n",
            "Requirement already satisfied: mrcfile in /usr/local/lib/python3.10/dist-packages (from GridDataFormats>=0.4.0->mdanalysis) (1.5.3)\n",
            "Requirement already satisfied: contourpy>=1.0.1 in /usr/local/lib/python3.10/dist-packages (from matplotlib>=1.5.1->mdanalysis) (1.2.1)\n",
            "Requirement already satisfied: cycler>=0.10 in /usr/local/lib/python3.10/dist-packages (from matplotlib>=1.5.1->mdanalysis) (0.12.1)\n",
            "Requirement already satisfied: fonttools>=4.22.0 in /usr/local/lib/python3.10/dist-packages (from matplotlib>=1.5.1->mdanalysis) (4.53.1)\n",
            "Requirement already satisfied: kiwisolver>=1.0.1 in /usr/local/lib/python3.10/dist-packages (from matplotlib>=1.5.1->mdanalysis) (1.4.5)\n",
            "Requirement already satisfied: pillow>=6.2.0 in /usr/local/lib/python3.10/dist-packages (from matplotlib>=1.5.1->mdanalysis) (9.4.0)\n",
            "Requirement already satisfied: pyparsing>=2.3.1 in /usr/local/lib/python3.10/dist-packages (from matplotlib>=1.5.1->mdanalysis) (3.1.2)\n",
            "Requirement already satisfied: python-dateutil>=2.7 in /usr/local/lib/python3.10/dist-packages (from matplotlib>=1.5.1->mdanalysis) (2.8.2)\n",
            "Requirement already satisfied: msgpack>=1.0.0 in /usr/local/lib/python3.10/dist-packages (from mmtf-python>=1.0.0->mdanalysis) (1.0.8)\n",
            "Requirement already satisfied: six>=1.5 in /usr/local/lib/python3.10/dist-packages (from python-dateutil>=2.7->matplotlib>=1.5.1->mdanalysis) (1.16.0)\n",
            "Requirement already satisfied: py3Dmol in /usr/local/lib/python3.10/dist-packages (2.3.0)\n",
            "  % Total    % Received % Xferd  Average Speed   Time    Time     Time  Current\n",
            "                                 Dload  Upload   Total   Spent    Left  Speed\n",
            "100 12131  100 12131    0     0  10349      0  0:00:01  0:00:01 --:--:-- 10350\n"
          ]
        }
      ],
      "source": [
        "#@title Install dependencies\n",
        "\n",
        "import torch\n",
        "\n",
        "torch_url = \"https://pytorch-geometric.com/whl/torch-{}.html\".format(torch.__version__).replace('+', '%2B')\n",
        "!pip install torch-cluster torch-geometric torch-scatter -f $torch_url\n",
        "!pip install e3nn\n",
        "!pip install rdkit\n",
        "!pip install mdanalysis\n",
        "!pip install py3Dmol\n",
        "\n",
        "if not os.path.exists(\"GeqShift\"):\n",
        "  !git clone https://github.com/gcourtade/GeqShift.git\n",
        "\n",
        "checkpoint_file = \"_checkpoint_epoch_6.pkl\"\n",
        "if not os.path.exists(checkpoint_file):\n",
        "  checkpoint_url = \"https://folk.ntnu.no/courtade/GeqShift_models/\" + checkpoint_file\n",
        "  !curl -O $checkpoint_url\n",
        "\n",
        "!curl -O https://folk.ntnu.no/courtade/GeqShift_models/predict_gpu.py\n",
        "\n"
      ]
    },
    {
      "cell_type": "code",
      "source": [
        "#@title Run prediction\n",
        "!python predict_gpu.py --smiles_list \"$query_smiles\" --mol_name \"$jobname\" --checkpoint_path $checkpoint_file --nbr_confs $num_conformations"
      ],
      "metadata": {
        "colab": {
          "base_uri": "https://localhost:8080/"
        },
        "id": "ay1dTCibaUkw",
        "outputId": "858e3bf4-f6f3-4e5a-d140-2d8fe67e8d26",
        "cellView": "form"
      },
      "execution_count": 53,
      "outputs": [
        {
          "output_type": "stream",
          "name": "stdout",
          "text": [
            "{1: 0.0, 3: 0.0, 5: 0.0, 7: 0.0, 8: 0.0, 10: 0.0, 12: 0.0, 13: 0.0, 16: 0.0, 18: 0.0, 19: 0.0, 21: 0.0, 22: 0.0, 25: 0.0, 27: 0.0, 28: 0.0, 30: 0.0, 32: 0.0, 35: 0.0, 36: 0.0, 38: 0.0, 40: 0.0, 42: 0.0, 44: 0.0, 46: 0.0, 48: 0.0, 49: 0.0, 51: 0.0, 53: 0.0, 55: 0.0, }\n",
            "Loaded checkpoint from _checkpoint_epoch_6.pkl\n",
            "Predict chemical shifts ...\n",
            "Predictions saved to predict//NS-xanthan_predictions.pkl\n",
            "[12:58:23] Molecule does not have explicit Hs. Consider calling AddHs()\n",
            "[12:58:23] Molecule does not have explicit Hs. Consider calling AddHs()\n",
            "Coordinates saved to predict//NS-xanthan.pdb\n",
            "Coordinates with shifts in Bfactor col saved to predict//NS-xanthan_shifts.pdb\n",
            "Predicted chemical shifts:\n",
            "13C_idx, CS\n",
            "1 172.65\n",
            "3 80.58\n",
            "5 99.12\n",
            "7 85.14\n",
            "8 74.05\n",
            "10 73.54\n",
            "12 77.96\n",
            "13 60.97\n",
            "16 100.45\n",
            "18 86.07\n",
            "19 70.96\n",
            "21 76.37\n",
            "22 61.82\n",
            "25 105.14\n",
            "27 78.97\n",
            "28 71.85\n",
            "30 72.19\n",
            "32 92.74\n",
            "35 71.00\n",
            "36 61.22\n",
            "38 73.15\n",
            "40 72.78\n",
            "42 74.31\n",
            "44 81.04\n",
            "46 99.60\n",
            "48 77.14\n",
            "49 61.83\n",
            "51 67.77\n",
            "53 73.79\n",
            "55 71.24\n"
          ]
        }
      ]
    },
    {
      "cell_type": "code",
      "source": [
        "#@title Display 3D structure with <sup>13</sup>C chemical shifts\n",
        "\n",
        "import py3Dmol\n",
        "import glob\n",
        "\n",
        "def parse_pdb(pdb_file):\n",
        "    atoms = []\n",
        "    with open(pdb_file, 'r') as file:\n",
        "        for line in file:\n",
        "            if line.startswith(\"HETATM\"):\n",
        "                # Extract atom name, coordinates, and B-factor\n",
        "                atom_name = line[12:16].strip()\n",
        "                x = float(line[30:38].strip())\n",
        "                y = float(line[38:46].strip())\n",
        "                z = float(line[46:54].strip())\n",
        "                bfactor = float(line[60:66].strip())\n",
        "                atoms.append((atom_name, x, y, z, bfactor))\n",
        "    return atoms\n",
        "\n",
        "pdb_filename = f\"/content/predict/{jobname}_shifts.pdb\"\n",
        "pdb_file = glob.glob(pdb_filename)\n",
        "atoms = parse_pdb(pdb_filename)\n",
        "\n",
        "view = py3Dmol.view(js='https://3dmol.org/build/3Dmol.js',)\n",
        "view.addModel(open(pdb_file[0],'r').read(),'pdb')\n",
        "\n",
        "view.setStyle({'stick': {}})\n",
        "\n",
        "for atom_name, x, y, z, bfactor in atoms:\n",
        "    if bfactor != 0:\n",
        "        label_content = f\"{bfactor:.2f}\"\n",
        "        view.addLabel(label_content, {'position': {'x': x, 'y': y, 'z': z}, 'fontSize': 12})\n",
        "\n",
        "view.zoomTo()\n",
        "\n",
        "view.show()\n"
      ],
      "metadata": {
        "colab": {
          "base_uri": "https://localhost:8080/",
          "height": 497
        },
        "cellView": "form",
        "id": "7apVDqZQE-wm",
        "outputId": "2873d265-e1e4-4270-9126-da958867f9f7"
      },
      "execution_count": 54,
      "outputs": [
        {
          "output_type": "display_data",
          "data": {
            "application/3dmoljs_load.v0": "<div id=\"3dmolviewer_1724417904549994\"  style=\"position: relative; width: 640px; height: 480px;\">\n        <p id=\"3dmolwarning_1724417904549994\" style=\"background-color:#ffcccc;color:black\">3Dmol.js failed to load for some reason.  Please check your browser console for error messages.<br></p>\n        </div>\n<script>\n\nvar loadScriptAsync = function(uri){\n  return new Promise((resolve, reject) => {\n    //this is to ignore the existence of requirejs amd\n    var savedexports, savedmodule;\n    if (typeof exports !== 'undefined') savedexports = exports;\n    else exports = {}\n    if (typeof module !== 'undefined') savedmodule = module;\n    else module = {}\n\n    var tag = document.createElement('script');\n    tag.src = uri;\n    tag.async = true;\n    tag.onload = () => {\n        exports = savedexports;\n        module = savedmodule;\n        resolve();\n    };\n  var firstScriptTag = document.getElementsByTagName('script')[0];\n  firstScriptTag.parentNode.insertBefore(tag, firstScriptTag);\n});\n};\n\nif(typeof $3Dmolpromise === 'undefined') {\n$3Dmolpromise = null;\n  $3Dmolpromise = loadScriptAsync('https://3dmol.org/build/3Dmol.js');\n}\n\nvar viewer_1724417904549994 = null;\nvar warn = document.getElementById(\"3dmolwarning_1724417904549994\");\nif(warn) {\n    warn.parentNode.removeChild(warn);\n}\n$3Dmolpromise.then(function() {\nviewer_1724417904549994 = $3Dmol.createViewer(document.getElementById(\"3dmolviewer_1724417904549994\"),{backgroundColor:\"white\"});\nviewer_1724417904549994.zoomTo();\n\tviewer_1724417904549994.addModel(\"HEADER    \\nTITLE     MDANALYSIS FRAMES FROM 0, STEP 1: Created by PDBWriter\\nCRYST1    1.000    1.000    1.000  90.00  90.00  90.00 P 1           1\\nREMARK     285 UNITARY VALUES FOR THE UNIT CELL AUTOMATICALLY SET\\nREMARK     285 BY MDANALYSIS PDBWRITER BECAUSE UNIT CELL INFORMATION\\nREMARK     285 WAS MISSING.\\nREMARK     285 PROTEIN DATA BANK CONVENTIONS REQUIRE THAT\\nREMARK     285 CRYST1 RECORD IS INCLUDED, BUT THE VALUES ON\\nREMARK     285 THIS RECORD ARE MEANINGLESS.\\nMODEL        1\\nHETATM    1  O1  UNL X   1      -3.846   0.951  -0.223  1.00  0.00      SYST O  \\nHETATM    2  C1  UNL X   1      -2.620   0.680  -0.412  1.00172.65      SYST C  \\nHETATM    3  O2  UNL X   1      -1.610   1.447  -0.322  1.00  0.00      SYST O1-\\nHETATM    4  C2  UNL X   1      -2.296  -0.774  -0.803  1.00 80.58      SYST C  \\nHETATM    5  O3  UNL X   1      -0.995  -1.199  -0.349  1.00  0.00      SYST O  \\nHETATM    6  C3  UNL X   1      -0.991  -1.796   0.939  1.00 99.12      SYST C  \\nHETATM    7  O4  UNL X   1      -1.157  -0.915   2.037  1.00  0.00      SYST O  \\nHETATM    8  C4  UNL X   1      -0.460   0.334   1.889  1.00 85.14      SYST C  \\nHETATM    9  C5  UNL X   1      -0.257   0.978   3.247  1.00 74.05      SYST C  \\nHETATM   10  O5  UNL X   1      -1.489   1.126   3.941  1.00  0.00      SYST O  \\nHETATM   11  C6  UNL X   1       0.705   0.161   4.083  1.00 73.54      SYST C  \\nHETATM   12  O6  UNL X   1       0.992   0.858   5.284  1.00  0.00      SYST O  \\nHETATM   13  C7  UNL X   1       1.993  -0.116   3.313  1.00 77.96      SYST C  \\nHETATM   14  C8  UNL X   1       2.902  -1.082   4.048  1.00 60.97      SYST C  \\nHETATM   15  O7  UNL X   1       3.456  -0.491   5.209  1.00  0.00      SYST O  \\nHETATM   16  O8  UNL X   1       1.732  -0.685   2.022  1.00  0.00      SYST O  \\nHETATM   17  C9  UNL X   1       0.920   0.197   1.237  1.00100.45      SYST C  \\nHETATM   18  O9  UNL X   1       1.605   1.434   1.083  1.00  0.00      SYST O  \\nHETATM   19  C10 UNL X   1       1.172   2.136  -0.100  1.00 86.07      SYST C  \\nHETATM   20  C11 UNL X   1       2.079   3.354  -0.188  1.00 70.96      SYST C  \\nHETATM   21  O10 UNL X   1       1.472   4.394  -0.940  1.00  0.00      SYST O  \\nHETATM   22  C12 UNL X   1       3.422   3.020  -0.830  1.00 76.37      SYST C  \\nHETATM   23  C13 UNL X   1       4.549   3.705  -0.082  1.00 61.82      SYST C  \\nHETATM   24  O11 UNL X   1       4.403   5.115  -0.113  1.00  0.00      SYST O  \\nHETATM   25  O12 UNL X   1       3.695   1.615  -0.814  1.00  0.00      SYST O  \\nHETATM   26  C14 UNL X   1       2.765   0.923  -1.639  1.00105.14      SYST C  \\nHETATM   27  O13 UNL X   1       2.895  -0.484  -1.467  1.00  0.00      SYST O  \\nHETATM   28  C15 UNL X   1       4.191  -0.962  -1.749  1.00 78.97      SYST C  \\nHETATM   29  C16 UNL X   1       4.749  -0.596  -3.111  1.00 71.85      SYST C  \\nHETATM   30  O14 UNL X   1       4.741  -1.767  -3.921  1.00  0.00      SYST O  \\nHETATM   31  C17 UNL X   1       6.167  -0.072  -3.026  1.00 72.19      SYST C  \\nHETATM   32  O15 UNL X   1       6.124   1.271  -2.558  1.00  0.00      SYST O  \\nHETATM   33  C18 UNL X   1       7.026  -0.944  -2.116  1.00 92.74      SYST C  \\nHETATM   34  O16 UNL X   1       8.239  -0.307  -1.767  1.00  0.00      SYST O  \\nHETATM   35  O17 UNL X   1       6.383  -1.546  -1.003  1.00  0.00      SYST O  \\nHETATM   36  C19 UNL X   1       5.198  -0.847  -0.617  1.00 71.00      SYST C  \\nHETATM   37  C20 UNL X   1       4.607  -1.444   0.648  1.00 61.22      SYST C  \\nHETATM   38  O18 UNL X   1       5.551  -1.416   1.704  1.00  0.00      SYST O  \\nHETATM   39  C21 UNL X   1       1.310   1.295  -1.371  1.00 73.15      SYST C  \\nHETATM   40  O19 UNL X   1       0.878   2.036  -2.509  1.00  0.00      SYST O  \\nHETATM   41  C22 UNL X   1      -1.946  -2.966   1.081  1.00 72.78      SYST C  \\nHETATM   42  O20 UNL X   1      -1.199  -4.158   1.210  1.00  0.00      SYST O  \\nHETATM   43  C23 UNL X   1      -2.865  -3.074  -0.115  1.00 74.31      SYST C  \\nHETATM   44  O21 UNL X   1      -3.913  -3.998   0.173  1.00  0.00      SYST O  \\nHETATM   45  C24 UNL X   1      -3.423  -1.704  -0.425  1.00 81.04      SYST C  \\nHETATM   46  O22 UNL X   1      -4.362  -1.749  -1.481  1.00  0.00      SYST O  \\nHETATM   47  C25 UNL X   1      -5.696  -1.845  -1.050  1.00 99.60      SYST C  \\nHETATM   48  O23 UNL X   1      -6.586  -1.377  -2.048  1.00  0.00      SYST O  \\nHETATM   49  C26 UNL X   1      -6.727   0.044  -1.999  1.00 77.14      SYST C  \\nHETATM   50  C27 UNL X   1      -5.581   0.771  -2.664  1.00 61.83      SYST C  \\nHETATM   51  O24 UNL X   1      -6.084   1.970  -3.243  1.00  0.00      SYST O  \\nHETATM   52  C28 UNL X   1      -7.024   0.590  -0.609  1.00 67.77      SYST C  \\nHETATM   53  O25 UNL X   1      -8.172   1.424  -0.712  1.00  0.00      SYST O  \\nHETATM   54  C29 UNL X   1      -7.352  -0.566   0.301  1.00 73.79      SYST C  \\nHETATM   55  O26 UNL X   1      -7.800  -0.172   1.582  1.00  0.00      SYST O  \\nHETATM   56  C30 UNL X   1      -6.212  -1.548   0.357  1.00 71.24      SYST C  \\nHETATM   57  O27 UNL X   1      -5.258  -1.229   1.330  1.00  0.00      SYST O  \\nENDMDL\\nCONECT    1    2\\nCONECT    2    1    3    4\\nCONECT    3    2\\nCONECT    4    2    5   45\\nCONECT    5    4    6\\nCONECT    6    5    7   41\\nCONECT    7    6    8\\nCONECT    8    7    9   17\\nCONECT    9    8   10   11\\nCONECT   10    9\\nCONECT   11    9   12   13\\nCONECT   12   11\\nCONECT   13   11   14   16\\nCONECT   14   13   15\\nCONECT   15   14\\nCONECT   16   13   17\\nCONECT   17    8   16   18\\nCONECT   18   17   19\\nCONECT   19   18   20   39\\nCONECT   20   19   21   22\\nCONECT   21   20\\nCONECT   22   20   23   25\\nCONECT   23   22   24\\nCONECT   24   23\\nCONECT   25   22   26\\nCONECT   26   25   27   39\\nCONECT   27   26   28\\nCONECT   28   27   29   36\\nCONECT   29   28   30   31\\nCONECT   30   29\\nCONECT   31   29   32   33\\nCONECT   32   31\\nCONECT   33   31   34   35\\nCONECT   34   33\\nCONECT   35   33   36\\nCONECT   36   28   35   37\\nCONECT   37   36   38\\nCONECT   38   37\\nCONECT   39   19   26   40\\nCONECT   40   39\\nCONECT   41    6   42   43\\nCONECT   42   41\\nCONECT   43   41   44   45\\nCONECT   44   43\\nCONECT   45    4   43   46\\nCONECT   46   45   47\\nCONECT   47   46   48   56\\nCONECT   48   47   49\\nCONECT   49   48   50   52\\nCONECT   50   49   51\\nCONECT   51   50\\nCONECT   52   49   53   54\\nCONECT   53   52\\nCONECT   54   52   55   56\\nCONECT   55   54\\nCONECT   56   47   54   57\\nCONECT   57   56\\nEND\\n\",\"pdb\");\n\tviewer_1724417904549994.setStyle({\"stick\": {}});\n\tviewer_1724417904549994.addLabel(\"172.65\",{\"position\": {\"x\": -2.62, \"y\": 0.68, \"z\": -0.412}, \"fontSize\": 12});\n\tviewer_1724417904549994.addLabel(\"80.58\",{\"position\": {\"x\": -2.296, \"y\": -0.774, \"z\": -0.803}, \"fontSize\": 12});\n\tviewer_1724417904549994.addLabel(\"99.12\",{\"position\": {\"x\": -0.991, \"y\": -1.796, \"z\": 0.939}, \"fontSize\": 12});\n\tviewer_1724417904549994.addLabel(\"85.14\",{\"position\": {\"x\": -0.46, \"y\": 0.334, \"z\": 1.889}, \"fontSize\": 12});\n\tviewer_1724417904549994.addLabel(\"74.05\",{\"position\": {\"x\": -0.257, \"y\": 0.978, \"z\": 3.247}, \"fontSize\": 12});\n\tviewer_1724417904549994.addLabel(\"73.54\",{\"position\": {\"x\": 0.705, \"y\": 0.161, \"z\": 4.083}, \"fontSize\": 12});\n\tviewer_1724417904549994.addLabel(\"77.96\",{\"position\": {\"x\": 1.993, \"y\": -0.116, \"z\": 3.313}, \"fontSize\": 12});\n\tviewer_1724417904549994.addLabel(\"60.97\",{\"position\": {\"x\": 2.902, \"y\": -1.082, \"z\": 4.048}, \"fontSize\": 12});\n\tviewer_1724417904549994.addLabel(\"100.45\",{\"position\": {\"x\": 0.92, \"y\": 0.197, \"z\": 1.237}, \"fontSize\": 12});\n\tviewer_1724417904549994.addLabel(\"86.07\",{\"position\": {\"x\": 1.172, \"y\": 2.136, \"z\": -0.1}, \"fontSize\": 12});\n\tviewer_1724417904549994.addLabel(\"70.96\",{\"position\": {\"x\": 2.079, \"y\": 3.354, \"z\": -0.188}, \"fontSize\": 12});\n\tviewer_1724417904549994.addLabel(\"76.37\",{\"position\": {\"x\": 3.422, \"y\": 3.02, \"z\": -0.83}, \"fontSize\": 12});\n\tviewer_1724417904549994.addLabel(\"61.82\",{\"position\": {\"x\": 4.549, \"y\": 3.705, \"z\": -0.082}, \"fontSize\": 12});\n\tviewer_1724417904549994.addLabel(\"105.14\",{\"position\": {\"x\": 2.765, \"y\": 0.923, \"z\": -1.639}, \"fontSize\": 12});\n\tviewer_1724417904549994.addLabel(\"78.97\",{\"position\": {\"x\": 4.191, \"y\": -0.962, \"z\": -1.749}, \"fontSize\": 12});\n\tviewer_1724417904549994.addLabel(\"71.85\",{\"position\": {\"x\": 4.749, \"y\": -0.596, \"z\": -3.111}, \"fontSize\": 12});\n\tviewer_1724417904549994.addLabel(\"72.19\",{\"position\": {\"x\": 6.167, \"y\": -0.072, \"z\": -3.026}, \"fontSize\": 12});\n\tviewer_1724417904549994.addLabel(\"92.74\",{\"position\": {\"x\": 7.026, \"y\": -0.944, \"z\": -2.116}, \"fontSize\": 12});\n\tviewer_1724417904549994.addLabel(\"71.00\",{\"position\": {\"x\": 5.198, \"y\": -0.847, \"z\": -0.617}, \"fontSize\": 12});\n\tviewer_1724417904549994.addLabel(\"61.22\",{\"position\": {\"x\": 4.607, \"y\": -1.444, \"z\": 0.648}, \"fontSize\": 12});\n\tviewer_1724417904549994.addLabel(\"73.15\",{\"position\": {\"x\": 1.31, \"y\": 1.295, \"z\": -1.371}, \"fontSize\": 12});\n\tviewer_1724417904549994.addLabel(\"72.78\",{\"position\": {\"x\": -1.946, \"y\": -2.966, \"z\": 1.081}, \"fontSize\": 12});\n\tviewer_1724417904549994.addLabel(\"74.31\",{\"position\": {\"x\": -2.865, \"y\": -3.074, \"z\": -0.115}, \"fontSize\": 12});\n\tviewer_1724417904549994.addLabel(\"81.04\",{\"position\": {\"x\": -3.423, \"y\": -1.704, \"z\": -0.425}, \"fontSize\": 12});\n\tviewer_1724417904549994.addLabel(\"99.60\",{\"position\": {\"x\": -5.696, \"y\": -1.845, \"z\": -1.05}, \"fontSize\": 12});\n\tviewer_1724417904549994.addLabel(\"77.14\",{\"position\": {\"x\": -6.727, \"y\": 0.044, \"z\": -1.999}, \"fontSize\": 12});\n\tviewer_1724417904549994.addLabel(\"61.83\",{\"position\": {\"x\": -5.581, \"y\": 0.771, \"z\": -2.664}, \"fontSize\": 12});\n\tviewer_1724417904549994.addLabel(\"67.77\",{\"position\": {\"x\": -7.024, \"y\": 0.59, \"z\": -0.609}, \"fontSize\": 12});\n\tviewer_1724417904549994.addLabel(\"73.79\",{\"position\": {\"x\": -7.352, \"y\": -0.566, \"z\": 0.301}, \"fontSize\": 12});\n\tviewer_1724417904549994.addLabel(\"71.24\",{\"position\": {\"x\": -6.212, \"y\": -1.548, \"z\": 0.357}, \"fontSize\": 12});\n\tviewer_1724417904549994.zoomTo();\nviewer_1724417904549994.render();\n});\n</script>",
            "text/html": [
              "<div id=\"3dmolviewer_1724417904549994\"  style=\"position: relative; width: 640px; height: 480px;\">\n",
              "        <p id=\"3dmolwarning_1724417904549994\" style=\"background-color:#ffcccc;color:black\">3Dmol.js failed to load for some reason.  Please check your browser console for error messages.<br></p>\n",
              "        </div>\n",
              "<script>\n",
              "\n",
              "var loadScriptAsync = function(uri){\n",
              "  return new Promise((resolve, reject) => {\n",
              "    //this is to ignore the existence of requirejs amd\n",
              "    var savedexports, savedmodule;\n",
              "    if (typeof exports !== 'undefined') savedexports = exports;\n",
              "    else exports = {}\n",
              "    if (typeof module !== 'undefined') savedmodule = module;\n",
              "    else module = {}\n",
              "\n",
              "    var tag = document.createElement('script');\n",
              "    tag.src = uri;\n",
              "    tag.async = true;\n",
              "    tag.onload = () => {\n",
              "        exports = savedexports;\n",
              "        module = savedmodule;\n",
              "        resolve();\n",
              "    };\n",
              "  var firstScriptTag = document.getElementsByTagName('script')[0];\n",
              "  firstScriptTag.parentNode.insertBefore(tag, firstScriptTag);\n",
              "});\n",
              "};\n",
              "\n",
              "if(typeof $3Dmolpromise === 'undefined') {\n",
              "$3Dmolpromise = null;\n",
              "  $3Dmolpromise = loadScriptAsync('https://3dmol.org/build/3Dmol.js');\n",
              "}\n",
              "\n",
              "var viewer_1724417904549994 = null;\n",
              "var warn = document.getElementById(\"3dmolwarning_1724417904549994\");\n",
              "if(warn) {\n",
              "    warn.parentNode.removeChild(warn);\n",
              "}\n",
              "$3Dmolpromise.then(function() {\n",
              "viewer_1724417904549994 = $3Dmol.createViewer(document.getElementById(\"3dmolviewer_1724417904549994\"),{backgroundColor:\"white\"});\n",
              "viewer_1724417904549994.zoomTo();\n",
              "\tviewer_1724417904549994.addModel(\"HEADER    \\nTITLE     MDANALYSIS FRAMES FROM 0, STEP 1: Created by PDBWriter\\nCRYST1    1.000    1.000    1.000  90.00  90.00  90.00 P 1           1\\nREMARK     285 UNITARY VALUES FOR THE UNIT CELL AUTOMATICALLY SET\\nREMARK     285 BY MDANALYSIS PDBWRITER BECAUSE UNIT CELL INFORMATION\\nREMARK     285 WAS MISSING.\\nREMARK     285 PROTEIN DATA BANK CONVENTIONS REQUIRE THAT\\nREMARK     285 CRYST1 RECORD IS INCLUDED, BUT THE VALUES ON\\nREMARK     285 THIS RECORD ARE MEANINGLESS.\\nMODEL        1\\nHETATM    1  O1  UNL X   1      -3.846   0.951  -0.223  1.00  0.00      SYST O  \\nHETATM    2  C1  UNL X   1      -2.620   0.680  -0.412  1.00172.65      SYST C  \\nHETATM    3  O2  UNL X   1      -1.610   1.447  -0.322  1.00  0.00      SYST O1-\\nHETATM    4  C2  UNL X   1      -2.296  -0.774  -0.803  1.00 80.58      SYST C  \\nHETATM    5  O3  UNL X   1      -0.995  -1.199  -0.349  1.00  0.00      SYST O  \\nHETATM    6  C3  UNL X   1      -0.991  -1.796   0.939  1.00 99.12      SYST C  \\nHETATM    7  O4  UNL X   1      -1.157  -0.915   2.037  1.00  0.00      SYST O  \\nHETATM    8  C4  UNL X   1      -0.460   0.334   1.889  1.00 85.14      SYST C  \\nHETATM    9  C5  UNL X   1      -0.257   0.978   3.247  1.00 74.05      SYST C  \\nHETATM   10  O5  UNL X   1      -1.489   1.126   3.941  1.00  0.00      SYST O  \\nHETATM   11  C6  UNL X   1       0.705   0.161   4.083  1.00 73.54      SYST C  \\nHETATM   12  O6  UNL X   1       0.992   0.858   5.284  1.00  0.00      SYST O  \\nHETATM   13  C7  UNL X   1       1.993  -0.116   3.313  1.00 77.96      SYST C  \\nHETATM   14  C8  UNL X   1       2.902  -1.082   4.048  1.00 60.97      SYST C  \\nHETATM   15  O7  UNL X   1       3.456  -0.491   5.209  1.00  0.00      SYST O  \\nHETATM   16  O8  UNL X   1       1.732  -0.685   2.022  1.00  0.00      SYST O  \\nHETATM   17  C9  UNL X   1       0.920   0.197   1.237  1.00100.45      SYST C  \\nHETATM   18  O9  UNL X   1       1.605   1.434   1.083  1.00  0.00      SYST O  \\nHETATM   19  C10 UNL X   1       1.172   2.136  -0.100  1.00 86.07      SYST C  \\nHETATM   20  C11 UNL X   1       2.079   3.354  -0.188  1.00 70.96      SYST C  \\nHETATM   21  O10 UNL X   1       1.472   4.394  -0.940  1.00  0.00      SYST O  \\nHETATM   22  C12 UNL X   1       3.422   3.020  -0.830  1.00 76.37      SYST C  \\nHETATM   23  C13 UNL X   1       4.549   3.705  -0.082  1.00 61.82      SYST C  \\nHETATM   24  O11 UNL X   1       4.403   5.115  -0.113  1.00  0.00      SYST O  \\nHETATM   25  O12 UNL X   1       3.695   1.615  -0.814  1.00  0.00      SYST O  \\nHETATM   26  C14 UNL X   1       2.765   0.923  -1.639  1.00105.14      SYST C  \\nHETATM   27  O13 UNL X   1       2.895  -0.484  -1.467  1.00  0.00      SYST O  \\nHETATM   28  C15 UNL X   1       4.191  -0.962  -1.749  1.00 78.97      SYST C  \\nHETATM   29  C16 UNL X   1       4.749  -0.596  -3.111  1.00 71.85      SYST C  \\nHETATM   30  O14 UNL X   1       4.741  -1.767  -3.921  1.00  0.00      SYST O  \\nHETATM   31  C17 UNL X   1       6.167  -0.072  -3.026  1.00 72.19      SYST C  \\nHETATM   32  O15 UNL X   1       6.124   1.271  -2.558  1.00  0.00      SYST O  \\nHETATM   33  C18 UNL X   1       7.026  -0.944  -2.116  1.00 92.74      SYST C  \\nHETATM   34  O16 UNL X   1       8.239  -0.307  -1.767  1.00  0.00      SYST O  \\nHETATM   35  O17 UNL X   1       6.383  -1.546  -1.003  1.00  0.00      SYST O  \\nHETATM   36  C19 UNL X   1       5.198  -0.847  -0.617  1.00 71.00      SYST C  \\nHETATM   37  C20 UNL X   1       4.607  -1.444   0.648  1.00 61.22      SYST C  \\nHETATM   38  O18 UNL X   1       5.551  -1.416   1.704  1.00  0.00      SYST O  \\nHETATM   39  C21 UNL X   1       1.310   1.295  -1.371  1.00 73.15      SYST C  \\nHETATM   40  O19 UNL X   1       0.878   2.036  -2.509  1.00  0.00      SYST O  \\nHETATM   41  C22 UNL X   1      -1.946  -2.966   1.081  1.00 72.78      SYST C  \\nHETATM   42  O20 UNL X   1      -1.199  -4.158   1.210  1.00  0.00      SYST O  \\nHETATM   43  C23 UNL X   1      -2.865  -3.074  -0.115  1.00 74.31      SYST C  \\nHETATM   44  O21 UNL X   1      -3.913  -3.998   0.173  1.00  0.00      SYST O  \\nHETATM   45  C24 UNL X   1      -3.423  -1.704  -0.425  1.00 81.04      SYST C  \\nHETATM   46  O22 UNL X   1      -4.362  -1.749  -1.481  1.00  0.00      SYST O  \\nHETATM   47  C25 UNL X   1      -5.696  -1.845  -1.050  1.00 99.60      SYST C  \\nHETATM   48  O23 UNL X   1      -6.586  -1.377  -2.048  1.00  0.00      SYST O  \\nHETATM   49  C26 UNL X   1      -6.727   0.044  -1.999  1.00 77.14      SYST C  \\nHETATM   50  C27 UNL X   1      -5.581   0.771  -2.664  1.00 61.83      SYST C  \\nHETATM   51  O24 UNL X   1      -6.084   1.970  -3.243  1.00  0.00      SYST O  \\nHETATM   52  C28 UNL X   1      -7.024   0.590  -0.609  1.00 67.77      SYST C  \\nHETATM   53  O25 UNL X   1      -8.172   1.424  -0.712  1.00  0.00      SYST O  \\nHETATM   54  C29 UNL X   1      -7.352  -0.566   0.301  1.00 73.79      SYST C  \\nHETATM   55  O26 UNL X   1      -7.800  -0.172   1.582  1.00  0.00      SYST O  \\nHETATM   56  C30 UNL X   1      -6.212  -1.548   0.357  1.00 71.24      SYST C  \\nHETATM   57  O27 UNL X   1      -5.258  -1.229   1.330  1.00  0.00      SYST O  \\nENDMDL\\nCONECT    1    2\\nCONECT    2    1    3    4\\nCONECT    3    2\\nCONECT    4    2    5   45\\nCONECT    5    4    6\\nCONECT    6    5    7   41\\nCONECT    7    6    8\\nCONECT    8    7    9   17\\nCONECT    9    8   10   11\\nCONECT   10    9\\nCONECT   11    9   12   13\\nCONECT   12   11\\nCONECT   13   11   14   16\\nCONECT   14   13   15\\nCONECT   15   14\\nCONECT   16   13   17\\nCONECT   17    8   16   18\\nCONECT   18   17   19\\nCONECT   19   18   20   39\\nCONECT   20   19   21   22\\nCONECT   21   20\\nCONECT   22   20   23   25\\nCONECT   23   22   24\\nCONECT   24   23\\nCONECT   25   22   26\\nCONECT   26   25   27   39\\nCONECT   27   26   28\\nCONECT   28   27   29   36\\nCONECT   29   28   30   31\\nCONECT   30   29\\nCONECT   31   29   32   33\\nCONECT   32   31\\nCONECT   33   31   34   35\\nCONECT   34   33\\nCONECT   35   33   36\\nCONECT   36   28   35   37\\nCONECT   37   36   38\\nCONECT   38   37\\nCONECT   39   19   26   40\\nCONECT   40   39\\nCONECT   41    6   42   43\\nCONECT   42   41\\nCONECT   43   41   44   45\\nCONECT   44   43\\nCONECT   45    4   43   46\\nCONECT   46   45   47\\nCONECT   47   46   48   56\\nCONECT   48   47   49\\nCONECT   49   48   50   52\\nCONECT   50   49   51\\nCONECT   51   50\\nCONECT   52   49   53   54\\nCONECT   53   52\\nCONECT   54   52   55   56\\nCONECT   55   54\\nCONECT   56   47   54   57\\nCONECT   57   56\\nEND\\n\",\"pdb\");\n",
              "\tviewer_1724417904549994.setStyle({\"stick\": {}});\n",
              "\tviewer_1724417904549994.addLabel(\"172.65\",{\"position\": {\"x\": -2.62, \"y\": 0.68, \"z\": -0.412}, \"fontSize\": 12});\n",
              "\tviewer_1724417904549994.addLabel(\"80.58\",{\"position\": {\"x\": -2.296, \"y\": -0.774, \"z\": -0.803}, \"fontSize\": 12});\n",
              "\tviewer_1724417904549994.addLabel(\"99.12\",{\"position\": {\"x\": -0.991, \"y\": -1.796, \"z\": 0.939}, \"fontSize\": 12});\n",
              "\tviewer_1724417904549994.addLabel(\"85.14\",{\"position\": {\"x\": -0.46, \"y\": 0.334, \"z\": 1.889}, \"fontSize\": 12});\n",
              "\tviewer_1724417904549994.addLabel(\"74.05\",{\"position\": {\"x\": -0.257, \"y\": 0.978, \"z\": 3.247}, \"fontSize\": 12});\n",
              "\tviewer_1724417904549994.addLabel(\"73.54\",{\"position\": {\"x\": 0.705, \"y\": 0.161, \"z\": 4.083}, \"fontSize\": 12});\n",
              "\tviewer_1724417904549994.addLabel(\"77.96\",{\"position\": {\"x\": 1.993, \"y\": -0.116, \"z\": 3.313}, \"fontSize\": 12});\n",
              "\tviewer_1724417904549994.addLabel(\"60.97\",{\"position\": {\"x\": 2.902, \"y\": -1.082, \"z\": 4.048}, \"fontSize\": 12});\n",
              "\tviewer_1724417904549994.addLabel(\"100.45\",{\"position\": {\"x\": 0.92, \"y\": 0.197, \"z\": 1.237}, \"fontSize\": 12});\n",
              "\tviewer_1724417904549994.addLabel(\"86.07\",{\"position\": {\"x\": 1.172, \"y\": 2.136, \"z\": -0.1}, \"fontSize\": 12});\n",
              "\tviewer_1724417904549994.addLabel(\"70.96\",{\"position\": {\"x\": 2.079, \"y\": 3.354, \"z\": -0.188}, \"fontSize\": 12});\n",
              "\tviewer_1724417904549994.addLabel(\"76.37\",{\"position\": {\"x\": 3.422, \"y\": 3.02, \"z\": -0.83}, \"fontSize\": 12});\n",
              "\tviewer_1724417904549994.addLabel(\"61.82\",{\"position\": {\"x\": 4.549, \"y\": 3.705, \"z\": -0.082}, \"fontSize\": 12});\n",
              "\tviewer_1724417904549994.addLabel(\"105.14\",{\"position\": {\"x\": 2.765, \"y\": 0.923, \"z\": -1.639}, \"fontSize\": 12});\n",
              "\tviewer_1724417904549994.addLabel(\"78.97\",{\"position\": {\"x\": 4.191, \"y\": -0.962, \"z\": -1.749}, \"fontSize\": 12});\n",
              "\tviewer_1724417904549994.addLabel(\"71.85\",{\"position\": {\"x\": 4.749, \"y\": -0.596, \"z\": -3.111}, \"fontSize\": 12});\n",
              "\tviewer_1724417904549994.addLabel(\"72.19\",{\"position\": {\"x\": 6.167, \"y\": -0.072, \"z\": -3.026}, \"fontSize\": 12});\n",
              "\tviewer_1724417904549994.addLabel(\"92.74\",{\"position\": {\"x\": 7.026, \"y\": -0.944, \"z\": -2.116}, \"fontSize\": 12});\n",
              "\tviewer_1724417904549994.addLabel(\"71.00\",{\"position\": {\"x\": 5.198, \"y\": -0.847, \"z\": -0.617}, \"fontSize\": 12});\n",
              "\tviewer_1724417904549994.addLabel(\"61.22\",{\"position\": {\"x\": 4.607, \"y\": -1.444, \"z\": 0.648}, \"fontSize\": 12});\n",
              "\tviewer_1724417904549994.addLabel(\"73.15\",{\"position\": {\"x\": 1.31, \"y\": 1.295, \"z\": -1.371}, \"fontSize\": 12});\n",
              "\tviewer_1724417904549994.addLabel(\"72.78\",{\"position\": {\"x\": -1.946, \"y\": -2.966, \"z\": 1.081}, \"fontSize\": 12});\n",
              "\tviewer_1724417904549994.addLabel(\"74.31\",{\"position\": {\"x\": -2.865, \"y\": -3.074, \"z\": -0.115}, \"fontSize\": 12});\n",
              "\tviewer_1724417904549994.addLabel(\"81.04\",{\"position\": {\"x\": -3.423, \"y\": -1.704, \"z\": -0.425}, \"fontSize\": 12});\n",
              "\tviewer_1724417904549994.addLabel(\"99.60\",{\"position\": {\"x\": -5.696, \"y\": -1.845, \"z\": -1.05}, \"fontSize\": 12});\n",
              "\tviewer_1724417904549994.addLabel(\"77.14\",{\"position\": {\"x\": -6.727, \"y\": 0.044, \"z\": -1.999}, \"fontSize\": 12});\n",
              "\tviewer_1724417904549994.addLabel(\"61.83\",{\"position\": {\"x\": -5.581, \"y\": 0.771, \"z\": -2.664}, \"fontSize\": 12});\n",
              "\tviewer_1724417904549994.addLabel(\"67.77\",{\"position\": {\"x\": -7.024, \"y\": 0.59, \"z\": -0.609}, \"fontSize\": 12});\n",
              "\tviewer_1724417904549994.addLabel(\"73.79\",{\"position\": {\"x\": -7.352, \"y\": -0.566, \"z\": 0.301}, \"fontSize\": 12});\n",
              "\tviewer_1724417904549994.addLabel(\"71.24\",{\"position\": {\"x\": -6.212, \"y\": -1.548, \"z\": 0.357}, \"fontSize\": 12});\n",
              "\tviewer_1724417904549994.zoomTo();\n",
              "viewer_1724417904549994.render();\n",
              "});\n",
              "</script>"
            ]
          },
          "metadata": {}
        }
      ]
    },
    {
      "cell_type": "code",
      "source": [
        "#@title Download the results\n",
        "zip_path = f\"/content/{jobname}.zip\"\n",
        "!zip -r  $zip_path /content/predict\n",
        "from google.colab import files\n",
        "files.download(zip_path)"
      ],
      "metadata": {
        "colab": {
          "base_uri": "https://localhost:8080/",
          "height": 121
        },
        "id": "s35L6-8g5RDN",
        "outputId": "b0fff1e4-9d0f-4071-e769-88363a80fac9"
      },
      "execution_count": 55,
      "outputs": [
        {
          "output_type": "stream",
          "name": "stdout",
          "text": [
            "updating: content/predict/ (stored 0%)\n",
            "updating: content/predict/NS-xanthan_shifts.pdb (deflated 73%)\n",
            "updating: content/predict/NS-xanthan_conformations.pickle (deflated 4%)\n",
            "updating: content/predict/NS-xanthan.pdb (deflated 77%)\n",
            "updating: content/predict/NS-xanthan_predictions.pkl (deflated 11%)\n",
            "updating: content/predict/NS-xanthan_pred_data.pkl (deflated 92%)\n"
          ]
        },
        {
          "output_type": "display_data",
          "data": {
            "text/plain": [
              "<IPython.core.display.Javascript object>"
            ],
            "application/javascript": [
              "\n",
              "    async function download(id, filename, size) {\n",
              "      if (!google.colab.kernel.accessAllowed) {\n",
              "        return;\n",
              "      }\n",
              "      const div = document.createElement('div');\n",
              "      const label = document.createElement('label');\n",
              "      label.textContent = `Downloading \"${filename}\": `;\n",
              "      div.appendChild(label);\n",
              "      const progress = document.createElement('progress');\n",
              "      progress.max = size;\n",
              "      div.appendChild(progress);\n",
              "      document.body.appendChild(div);\n",
              "\n",
              "      const buffers = [];\n",
              "      let downloaded = 0;\n",
              "\n",
              "      const channel = await google.colab.kernel.comms.open(id);\n",
              "      // Send a message to notify the kernel that we're ready.\n",
              "      channel.send({})\n",
              "\n",
              "      for await (const message of channel.messages) {\n",
              "        // Send a message to notify the kernel that we're ready.\n",
              "        channel.send({})\n",
              "        if (message.buffers) {\n",
              "          for (const buffer of message.buffers) {\n",
              "            buffers.push(buffer);\n",
              "            downloaded += buffer.byteLength;\n",
              "            progress.value = downloaded;\n",
              "          }\n",
              "        }\n",
              "      }\n",
              "      const blob = new Blob(buffers, {type: 'application/binary'});\n",
              "      const a = document.createElement('a');\n",
              "      a.href = window.URL.createObjectURL(blob);\n",
              "      a.download = filename;\n",
              "      div.appendChild(a);\n",
              "      a.click();\n",
              "      div.remove();\n",
              "    }\n",
              "  "
            ]
          },
          "metadata": {}
        },
        {
          "output_type": "display_data",
          "data": {
            "text/plain": [
              "<IPython.core.display.Javascript object>"
            ],
            "application/javascript": [
              "download(\"download_89566e4c-9de4-41c9-90a7-6425cb011a1e\", \"NS-xanthan.zip\", 43367)"
            ]
          },
          "metadata": {}
        }
      ]
    },
    {
      "cell_type": "markdown",
      "source": [
        "The chemical shifts are stored in the B-factor column of the _shifts.pdb file. To visualize chemical shifts on the structure, you can label the atoms by B-factor:\n",
        "1. Open `JOBNAME_shifts.pdb ` on PyMOL\n",
        "2. Type `label all, b` or click `L > b-factor`"
      ],
      "metadata": {
        "id": "2EL0sM65Rd31"
      }
    }
  ]
}